{
 "cells": [
  {
   "cell_type": "markdown",
   "metadata": {},
   "source": [
    "Load Libraries and Data"
   ]
  },
  {
   "cell_type": "code",
   "execution_count": 34,
   "metadata": {},
   "outputs": [],
   "source": [
    "import pandas as pd\n",
    "import numpy as np\n",
    "import os \n",
    "from pathlib import Path\n",
    "from PIL import Image\n",
    "\n",
    "X_testDataPath = \"./dog-breed-identification/test/\"\n",
    "X_trainDataPath = \"./dog-breed-identification/train/\"\n",
    "y_DataPath = './dog-breed-identification/labels.csv'\n",
    "\n",
    "data = pd.read_csv(y_DataPath)\n",
    "\n",
    "#Temp varaiables to store the xtest, xtrain, ytest,ytrain\n",
    "trainDic = {\n",
    "    \"image\":[],\n",
    "    \"breed\":[]\n",
    "}\n",
    "\n",
    "testDic = {\n",
    "    \"image\":[],\n",
    "    \"breed\":[]\n",
    "}\n",
    "\n",
    "#Data from the csv only contans the ids of the photos and not the photos itself\n",
    "#Iterate through the data and check whether the photo is in test or train\n",
    "#Then fetch it and store it in its proper variable\n",
    "for _ , example in data.iterrows():\n",
    "    if os.path.exists(X_testDataPath + example[\"id\"] + \".jpg\"):\n",
    "        image = Image.open(X_testDataPath + example[\"id\"] + \".jpg\")\n",
    "        testDic[\"image\"].append(np.asarray(image))\n",
    "        testDic[\"breed\"].append(example[\"breed\"])\n",
    "    else:\n",
    "        image = Image.open(X_trainDataPath + example[\"id\"] + \".jpg\")\n",
    "        trainDic[\"image\"].append(np.asarray(image))\n",
    "        trainDic[\"breed\"].append(example[\"breed\"])\n",
    "\n",
    "#X_train and X_test are dataframes that contain the image matrices\n",
    "#Formatted so images column contains the images as np.arrays\n",
    "train, test = pd.DataFrame(trainDic), pd.DataFrame(testDic)\n"
   ]
  },
  {
   "cell_type": "code",
   "execution_count": 40,
   "metadata": {},
   "outputs": [
    {
     "name": "stdout",
     "output_type": "stream",
     "text": [
      "boston_bull\n"
     ]
    }
   ],
   "source": [
    "X_train = train[\"image\"]\n",
    "y_train = train[\"breed\"]\n",
    "\n",
    "X_test = test[\"image\"]\n",
    "y_test = test[\"breed\"]"
   ]
  },
  {
   "cell_type": "code",
   "execution_count": null,
   "metadata": {},
   "outputs": [],
   "source": [
    "#Method that will show you the picture from the given matrix\n",
    "def showImage(imageMatrix):\n",
    "    image = Image.fromarray(imageMatrix)\n",
    "    image.show()"
   ]
  }
 ],
 "metadata": {
  "interpreter": {
   "hash": "68eba87f697c84ca551927a9d3b9665fdfcea851e37b88d4c7eb6dc7585d276c"
  },
  "kernelspec": {
   "display_name": "Python 3.9.16 ('ML')",
   "language": "python",
   "name": "python3"
  },
  "language_info": {
   "codemirror_mode": {
    "name": "ipython",
    "version": 3
   },
   "file_extension": ".py",
   "mimetype": "text/x-python",
   "name": "python",
   "nbconvert_exporter": "python",
   "pygments_lexer": "ipython3",
   "version": "3.9.16"
  },
  "orig_nbformat": 4
 },
 "nbformat": 4,
 "nbformat_minor": 2
}
