{
 "cells": [
  {
   "cell_type": "markdown",
   "metadata": {},
   "source": [
    "Load Libraries and Data"
   ]
  },
  {
   "cell_type": "code",
   "execution_count": 20,
   "metadata": {},
   "outputs": [
    {
     "name": "stdout",
     "output_type": "stream",
     "text": [
      "                                      0\n",
      "0      000bec180eb18c7604dcecc8fe0dba07\n",
      "1      001513dfcb2ffafc82cccf4d8bbaba97\n",
      "2      001cdf01b096e06d78e9e5112d419397\n",
      "3      00214f311d5d2247d5dfe4fe24b2303d\n",
      "4      0021f9ceb3235effd7fcde7f7538ed62\n",
      "...                                 ...\n",
      "10217  ffd25009d635cfd16e793503ac5edef0\n",
      "10218  ffd3f636f7f379c51ba3648a9ff8254f\n",
      "10219  ffe2ca6c940cddfee68fa3cc6c63213f\n",
      "10220  ffe5f6d8e2bff356e9482a80a6e29aac\n",
      "10221  fff43b07992508bc822f33d8ffd902ae\n",
      "\n",
      "[10222 rows x 1 columns]\n"
     ]
    }
   ],
   "source": [
    "import pandas as pd\n",
    "import numpy as np\n",
    "import os \n",
    "from pathlib import Path\n",
    "\n",
    "X_testDataPath = \"./dog-breed-identification/test/\"\n",
    "X_trainDataPath = \"./dog-breed-identification/train/\"\n",
    "y_DataPath = './dog-breed-identification/labels.csv'\n",
    "\n",
    "data = pd.read_csv(y_DataPath)\n",
    "\n",
    "xt, xtr, yt, ytr = [],[],[],[]\n",
    "\n",
    "for _ , example in data.iterrows():\n",
    "    if os.path.exists(X_testDataPath + example[\"id\"] + \".jpg\"):\n",
    "        xt.append(example[\"id\"])\n",
    "        yt.append(example[\"breed\"])\n",
    "    else:\n",
    "        xtr.append(example[\"id\"])\n",
    "        ytr.append(example[\"breed\"])\n",
    "\n",
    "X_train, y_train, X_test, y_test = pd.DataFrame(xtr), pd.DataFrame(ytr), pd.DataFrame(xt), pd.DataFrame(yt)"
   ]
  }
 ],
 "metadata": {
  "interpreter": {
   "hash": "68eba87f697c84ca551927a9d3b9665fdfcea851e37b88d4c7eb6dc7585d276c"
  },
  "kernelspec": {
   "display_name": "Python 3.9.16 ('ML')",
   "language": "python",
   "name": "python3"
  },
  "language_info": {
   "codemirror_mode": {
    "name": "ipython",
    "version": 3
   },
   "file_extension": ".py",
   "mimetype": "text/x-python",
   "name": "python",
   "nbconvert_exporter": "python",
   "pygments_lexer": "ipython3",
   "version": "3.9.16"
  },
  "orig_nbformat": 4
 },
 "nbformat": 4,
 "nbformat_minor": 2
}
