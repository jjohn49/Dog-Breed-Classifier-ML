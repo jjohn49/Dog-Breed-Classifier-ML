{
 "cells": [
  {
   "cell_type": "code",
   "execution_count": 111,
   "metadata": {},
   "outputs": [
    {
     "name": "stdout",
     "output_type": "stream",
     "text": [
      "                                     id                     breed\n",
      "0      000bec180eb18c7604dcecc8fe0dba07               boston_bull\n",
      "1      001513dfcb2ffafc82cccf4d8bbaba97                     dingo\n",
      "2      001cdf01b096e06d78e9e5112d419397                  pekinese\n",
      "3      00214f311d5d2247d5dfe4fe24b2303d                  bluetick\n",
      "4      0021f9ceb3235effd7fcde7f7538ed62          golden_retriever\n",
      "...                                 ...                       ...\n",
      "10217  ffd25009d635cfd16e793503ac5edef0                    borzoi\n",
      "10218  ffd3f636f7f379c51ba3648a9ff8254f            dandie_dinmont\n",
      "10219  ffe2ca6c940cddfee68fa3cc6c63213f                  airedale\n",
      "10220  ffe5f6d8e2bff356e9482a80a6e29aac        miniature_pinscher\n",
      "10221  fff43b07992508bc822f33d8ffd902ae  chesapeake_bay_retriever\n",
      "\n",
      "[10222 rows x 2 columns]\n"
     ]
    }
   ],
   "source": [
    "import pandas as pd\n",
    "import numpy as np\n",
    "import os \n",
    "from pathlib import Path\n",
    "from PIL import Image\n",
    "import matplotlib.pyplot as plt\n",
    "\n",
    "#TEST_IMAGE_DIR = \"./dog-breed-identification/test/\"\n",
    "TRAIN_IMAGE_DIR = \"./dog-breed-identification/train/\"\n",
    "LABELS = './dog-breed-identification/labels.csv'\n",
    "\n",
    "data = pd.read_csv(LABELS)\n",
    "class_names = data['breed'].unique()\n",
    "\n",
    "print(data)"
   ]
  },
  {
   "cell_type": "code",
   "execution_count": 112,
   "metadata": {},
   "outputs": [],
   "source": [
    "#Data from the csv only contans the ids of the photos and not the photos itself\n",
    "#Iterate through the data and check whether the photo is in test or train\n",
    "#Then fetch it and store it in its proper variable\n",
    "import tensorflow as tf\n",
    "from os.path import join\n",
    "from tensorflow.keras.utils import load_img, img_to_array\n",
    "from tensorflow.keras.applications.imagenet_utils import preprocess_input\n",
    "from sklearn.model_selection import train_test_split\n",
    "from sklearn.preprocessing import LabelEncoder\n",
    "\n",
    "def load_and_preprocess_images(image_dir, image_ids, target_size=(90, 90)):\n",
    "    image_data = []\n",
    "    for img_id in image_ids:\n",
    "        img_path = join(image_dir, img_id + \".jpg\")\n",
    "        img = load_img(img_path, target_size=target_size)\n",
    "        img_array = img_to_array(img)\n",
    "        preprocessed_img = preprocess_input(img_array) #I dont flatten the image here\n",
    "        image_data.append(preprocessed_img)\n",
    "    return np.array(image_data)\n",
    "\n",
    "# Get image IDs for train and test\n",
    "train_image_ids = data['id'].values\n",
    "labels = data['breed'].values\n",
    "# Encode labels\n",
    "label_encoder = LabelEncoder()\n",
    "encoded_labels = label_encoder.fit_transform(labels)\n",
    "\n",
    "train_image_ids, test_image_ids, train_labels, test_labels = train_test_split(train_image_ids, encoded_labels, test_size=0.2, random_state=42, stratify=encoded_labels)\n",
    "\n",
    "train_images = load_and_preprocess_images(TRAIN_IMAGE_DIR, train_image_ids)\n",
    "test_images = load_and_preprocess_images(TRAIN_IMAGE_DIR, test_image_ids)"
   ]
  },
  {
   "cell_type": "code",
   "execution_count": 113,
   "metadata": {},
   "outputs": [
    {
     "name": "stderr",
     "output_type": "stream",
     "text": [
      "Clipping input data to the valid range for imshow with RGB data ([0..1] for floats or [0..255] for integers).\n"
     ]
    },
    {
     "data": {
      "image/png": "[encoded data removed]",
      "text/plain": [
       "<Figure size 640x480 with 2 Axes>"
      ]
     },
     "metadata": {},
     "output_type": "display_data"
    },
    {
     "name": "stdout",
     "output_type": "stream",
     "text": [
      "81\n"
     ]
    }
   ],
   "source": [
    "plt.figure()\n",
    "plt.imshow(train_images[3])\n",
    "plt.colorbar()\n",
    "plt.grid(False)\n",
    "plt.show()\n",
    "print(train_labels[3])"
   ]
  },
  {
   "cell_type": "code",
   "execution_count": 114,
   "metadata": {},
   "outputs": [],
   "source": [
    "train_images = train_images / 250.0\n",
    "test_images = test_images / 250.0"
   ]
  },
  {
   "cell_type": "code",
   "execution_count": 205,
   "metadata": {},
   "outputs": [],
   "source": [
    "from tensorflow import keras\n",
    "\n",
    "model = keras.Sequential([\n",
    "    tf.keras.layers.Conv2D(32,(3, 3), activation = 'relu', input_shape = (90, 90, 3)),\n",
    "    tf.keras.layers.MaxPooling2D (2,2), \n",
    "    tf.keras.layers.Conv2D(32, (3, 3), activation ='relu'),\n",
    "    tf.keras.layers.MaxPooling2D(2,2),\n",
    "    tf.keras.layers.Conv2D(32, (3, 3), activation ='relu'),\n",
    "    tf.keras.layers.MaxPooling2D(2,2),\n",
    "    tf.keras.layers.Flatten(), \n",
    "    tf.keras.layers.Dense(300, activation=\"relu\"),\n",
    "    tf.keras.layers.Dense(300, activation=\"relu\"),\n",
    "    tf.keras.layers.Dense(120, activation=\"softmax\"),\n",
    "])"
   ]
  },
  {
   "cell_type": "code",
   "execution_count": 206,
   "metadata": {},
   "outputs": [],
   "source": [
    "model.compile(optimizer='adam',\n",
    "                loss='sparse_categorical_crossentropy',\n",
    "                metrics=['accuracy'])"
   ]
  },
  {
   "cell_type": "code",
   "execution_count": 207,
   "metadata": {},
   "outputs": [
    {
     "name": "stdout",
     "output_type": "stream",
     "text": [
      "Epoch 1/6\n",
      "256/256 [==============================] - 12s 45ms/step - loss: 4.7492 - accuracy: 0.0115\n",
      "Epoch 2/6\n",
      "256/256 [==============================] - 11s 45ms/step - loss: 4.4856 - accuracy: 0.0331\n",
      "Epoch 3/6\n",
      "256/256 [==============================] - 11s 44ms/step - loss: 4.2434 - accuracy: 0.0574\n",
      "Epoch 4/6\n",
      "256/256 [==============================] - 11s 45ms/step - loss: 4.0313 - accuracy: 0.0882\n",
      "Epoch 5/6\n",
      "256/256 [==============================] - 12s 45ms/step - loss: 3.7455 - accuracy: 0.1309\n",
      "Epoch 6/6\n",
      "256/256 [==============================] - 12s 45ms/step - loss: 3.3024 - accuracy: 0.2004\n"
     ]
    },
    {
     "data": {
      "text/plain": [
       "<keras.callbacks.History at 0x2bed77b50>"
      ]
     },
     "execution_count": 207,
     "metadata": {},
     "output_type": "execute_result"
    }
   ],
   "source": [
    "model.fit(train_images, train_labels, epochs=6)"
   ]
  },
  {
   "cell_type": "code",
   "execution_count": 208,
   "metadata": {},
   "outputs": [
    {
     "name": "stdout",
     "output_type": "stream",
     "text": [
      "64/64 - 1s - loss: 4.5405 - accuracy: 0.0694 - 1s/epoch - 16ms/step\n",
      "\n",
      "Test accuracy: 0.0694376528263092\n"
     ]
    }
   ],
   "source": [
    "test_loss, test_acc = model.evaluate(test_images,  test_labels, verbose=2)\n",
    "print('\\nTest accuracy:', test_acc)"
   ]
  }
 ],
 "metadata": {
  "kernelspec": {
   "display_name": "Python 3",
   "language": "python",
   "name": "python3"
  },
  "language_info": {
   "codemirror_mode": {
    "name": "ipython",
    "version": 3
   },
   "file_extension": ".py",
   "mimetype": "text/x-python",
   "name": "python",
   "nbconvert_exporter": "python",
   "pygments_lexer": "ipython3",
   "version": "3.9.16"
  },
  "orig_nbformat": 4
 },
 "nbformat": 4,
 "nbformat_minor": 2
}
