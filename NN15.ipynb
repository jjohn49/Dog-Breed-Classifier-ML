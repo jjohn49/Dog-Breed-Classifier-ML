{
 "cells": [
  {
   "cell_type": "code",
   "execution_count": 1,
   "metadata": {},
   "outputs": [
    {
     "name": "stderr",
     "output_type": "stream",
     "text": [
      "c:\\Users\\Danny\\miniconda3\\envs\\tf\\lib\\site-packages\\requests\\__init__.py:109: RequestsDependencyWarning: urllib3 (1.26.15) or chardet (None)/charset_normalizer (3.1.0) doesn't match a supported version!\n",
      "  warnings.warn(\n"
     ]
    },
    {
     "name": "stdout",
     "output_type": "stream",
     "text": [
      "                                     id                     breed\n",
      "0      000bec180eb18c7604dcecc8fe0dba07               boston_bull\n",
      "1      001513dfcb2ffafc82cccf4d8bbaba97                     dingo\n",
      "2      001cdf01b096e06d78e9e5112d419397                  pekinese\n",
      "3      00214f311d5d2247d5dfe4fe24b2303d                  bluetick\n",
      "4      0021f9ceb3235effd7fcde7f7538ed62          golden_retriever\n",
      "...                                 ...                       ...\n",
      "10217  ffd25009d635cfd16e793503ac5edef0                    borzoi\n",
      "10218  ffd3f636f7f379c51ba3648a9ff8254f            dandie_dinmont\n",
      "10219  ffe2ca6c940cddfee68fa3cc6c63213f                  airedale\n",
      "10220  ffe5f6d8e2bff356e9482a80a6e29aac        miniature_pinscher\n",
      "10221  fff43b07992508bc822f33d8ffd902ae  chesapeake_bay_retriever\n",
      "\n",
      "[10222 rows x 2 columns]\n"
     ]
    }
   ],
   "source": [
    "import pandas as pd\n",
    "import numpy as np\n",
    "import os \n",
    "from pathlib import Path\n",
    "from PIL import Image\n",
    "import matplotlib.pyplot as plt\n",
    "from tensorflow.keras.preprocessing.image import ImageDataGenerator\n",
    "\n",
    "#TEST_IMAGE_DIR = \"./dog-breed-identification/test/\"\n",
    "TRAIN_IMAGE_DIR = \"./dog-breed-identification/train/\"\n",
    "LABELS = './dog-breed-identification/labels.csv'\n",
    "\n",
    "data = pd.read_csv(LABELS)\n",
    "class_names = data['breed'].unique()\n",
    "\n",
    "print(data)"
   ]
  },
  {
   "cell_type": "code",
   "execution_count": 2,
   "metadata": {},
   "outputs": [],
   "source": [
    "#Data from the csv only contans the ids of the photos and not the photos itself\n",
    "#Iterate through the data and check whether the photo is in test or train\n",
    "#Then fetch it and store it in its proper variable\n",
    "import tensorflow as tf\n",
    "from os.path import join\n",
    "from tensorflow.keras.utils import load_img, img_to_array\n",
    "from tensorflow.keras.applications.imagenet_utils import preprocess_input\n",
    "from sklearn.model_selection import train_test_split\n",
    "from sklearn.preprocessing import LabelEncoder\n",
    "\n",
    "def load_and_preprocess_images(image_dir, image_ids, target_size=(90, 90)):\n",
    "    image_data = []\n",
    "    for img_id in image_ids:\n",
    "        img_path = join(image_dir, img_id + \".jpg\")\n",
    "        img = load_img(img_path, target_size=target_size)\n",
    "        img_array = img_to_array(img)\n",
    "        preprocessed_img = preprocess_input(img_array) #I dont flatten the image here\n",
    "        image_data.append(preprocessed_img)\n",
    "    return np.array(image_data)\n",
    "\n",
    "# Get image IDs for train and test\n",
    "train_image_ids = data['id'].values\n",
    "labels = data['breed'].values\n",
    "# Encode labels\n",
    "label_encoder = LabelEncoder()\n",
    "encoded_labels = label_encoder.fit_transform(labels)\n",
    "\n",
    "train_image_ids, test_image_ids, train_labels, test_labels = train_test_split(train_image_ids, encoded_labels, test_size=0.2, random_state=42, stratify=encoded_labels)\n",
    "\n",
    "train_images = load_and_preprocess_images(TRAIN_IMAGE_DIR, train_image_ids)\n",
    "test_images = load_and_preprocess_images(TRAIN_IMAGE_DIR, test_image_ids)"
   ]
  },
  {
   "cell_type": "code",
   "execution_count": 3,
   "metadata": {},
   "outputs": [],
   "source": [
    "train_images = train_images / 250.0\n",
    "test_images = test_images / 250.0"
   ]
  },
  {
   "cell_type": "code",
   "execution_count": 4,
   "metadata": {},
   "outputs": [],
   "source": [
    "datagen = ImageDataGenerator(\n",
    "    rotation_range=20,\n",
    "    width_shift_range=0.2,\n",
    "    height_shift_range=0.2,\n",
    "    horizontal_flip=True,\n",
    "    zoom_range=0.2\n",
    ")\n",
    "\n",
    "datagen.fit(train_images)"
   ]
  },
  {
   "cell_type": "code",
   "execution_count": 9,
   "metadata": {},
   "outputs": [],
   "source": [
    "from tensorflow import keras\n",
    "from tensorflow.keras.layers import BatchNormalization, Dropout\n",
    "\n",
    "model = keras.Sequential([\n",
    "    tf.keras.layers.Conv2D(32, (3, 3), activation='relu', input_shape=(90, 90, 3)),\n",
    "    tf.keras.layers.BatchNormalization(),\n",
    "    tf.keras.layers.MaxPooling2D(2, 2),\n",
    "    \n",
    "    tf.keras.layers.Conv2D(64, (3, 3), activation='relu'),\n",
    "    tf.keras.layers.BatchNormalization(),\n",
    "    tf.keras.layers.MaxPooling2D(2, 2),\n",
    "    \n",
    "    tf.keras.layers.Conv2D(128, (3, 3), activation='relu'),\n",
    "    tf.keras.layers.BatchNormalization(),\n",
    "    tf.keras.layers.MaxPooling2D(2, 2),\n",
    "    \n",
    "    tf.keras.layers.Conv2D(256, (3, 3), activation='relu'),\n",
    "    tf.keras.layers.BatchNormalization(),\n",
    "    tf.keras.layers.MaxPooling2D(2, 2),\n",
    "    \n",
    "    tf.keras.layers.Flatten(),\n",
    "    \n",
    "    tf.keras.layers.Dense(512, activation=\"relu\"),\n",
    "    tf.keras.layers.BatchNormalization(),\n",
    "    tf.keras.layers.Dropout(0.5),\n",
    "    \n",
    "    tf.keras.layers.Dense(256, activation=\"relu\"),\n",
    "    tf.keras.layers.BatchNormalization(),\n",
    "    tf.keras.layers.Dropout(0.5),\n",
    "    \n",
    "    tf.keras.layers.Dense(120, activation=\"softmax\"),\n",
    "])\n"
   ]
  },
  {
   "cell_type": "code",
   "execution_count": 10,
   "metadata": {},
   "outputs": [],
   "source": [
    "model.compile(optimizer='adam',\n",
    "                loss='sparse_categorical_crossentropy',\n",
    "                metrics=['accuracy'])"
   ]
  },
  {
   "cell_type": "code",
   "execution_count": 11,
   "metadata": {},
   "outputs": [
    {
     "name": "stdout",
     "output_type": "stream",
     "text": [
      "Epoch 1/25\n",
      "127/127 [==============================] - 11s 79ms/step - loss: 5.6018 - accuracy: 0.0141 - val_loss: 6.8943 - val_accuracy: 0.0147\n",
      "Epoch 2/25\n",
      "127/127 [==============================] - 10s 76ms/step - loss: 5.0860 - accuracy: 0.0245 - val_loss: 6.6162 - val_accuracy: 0.0073\n",
      "Epoch 3/25\n",
      "127/127 [==============================] - 10s 81ms/step - loss: 4.8649 - accuracy: 0.0274 - val_loss: 5.7095 - val_accuracy: 0.0176\n",
      "Epoch 4/25\n",
      "127/127 [==============================] - 10s 80ms/step - loss: 4.6990 - accuracy: 0.0322 - val_loss: 4.7673 - val_accuracy: 0.0308\n",
      "Epoch 5/25\n",
      "127/127 [==============================] - 10s 77ms/step - loss: 4.5686 - accuracy: 0.0393 - val_loss: 4.2877 - val_accuracy: 0.0616\n",
      "Epoch 6/25\n",
      "127/127 [==============================] - 10s 77ms/step - loss: 4.4944 - accuracy: 0.0423 - val_loss: 4.1905 - val_accuracy: 0.0836\n",
      "Epoch 7/25\n",
      "127/127 [==============================] - 10s 77ms/step - loss: 4.4012 - accuracy: 0.0465 - val_loss: 4.3657 - val_accuracy: 0.0528\n",
      "Epoch 8/25\n",
      "127/127 [==============================] - 10s 76ms/step - loss: 4.3109 - accuracy: 0.0550 - val_loss: 4.2672 - val_accuracy: 0.0621\n",
      "Epoch 9/25\n",
      "127/127 [==============================] - 10s 77ms/step - loss: 4.2312 - accuracy: 0.0600 - val_loss: 4.3671 - val_accuracy: 0.0543\n",
      "Epoch 10/25\n",
      "127/127 [==============================] - 10s 76ms/step - loss: 4.1733 - accuracy: 0.0637 - val_loss: 4.0988 - val_accuracy: 0.0778\n",
      "Epoch 11/25\n",
      "127/127 [==============================] - 10s 78ms/step - loss: 4.1132 - accuracy: 0.0696 - val_loss: 4.2721 - val_accuracy: 0.0606\n",
      "Epoch 12/25\n",
      "127/127 [==============================] - 10s 76ms/step - loss: 4.0621 - accuracy: 0.0794 - val_loss: 4.0104 - val_accuracy: 0.0831\n",
      "Epoch 13/25\n",
      "127/127 [==============================] - 10s 77ms/step - loss: 4.0113 - accuracy: 0.0837 - val_loss: 4.0744 - val_accuracy: 0.0885\n",
      "Epoch 14/25\n",
      "127/127 [==============================] - 10s 76ms/step - loss: 3.9812 - accuracy: 0.0876 - val_loss: 3.9629 - val_accuracy: 0.0954\n",
      "Epoch 15/25\n",
      "127/127 [==============================] - 10s 77ms/step - loss: 3.9049 - accuracy: 0.1034 - val_loss: 3.8558 - val_accuracy: 0.1090\n",
      "Epoch 16/25\n",
      "127/127 [==============================] - 10s 76ms/step - loss: 3.8520 - accuracy: 0.0996 - val_loss: 3.8958 - val_accuracy: 0.1012\n",
      "Epoch 17/25\n",
      "127/127 [==============================] - 10s 77ms/step - loss: 3.7878 - accuracy: 0.1165 - val_loss: 3.9441 - val_accuracy: 0.1061\n",
      "Epoch 18/25\n",
      "127/127 [==============================] - 10s 76ms/step - loss: 3.7487 - accuracy: 0.1191 - val_loss: 3.8079 - val_accuracy: 0.1169\n",
      "Epoch 19/25\n",
      "127/127 [==============================] - 10s 77ms/step - loss: 3.7232 - accuracy: 0.1250 - val_loss: 3.7263 - val_accuracy: 0.1306\n",
      "Epoch 20/25\n",
      "127/127 [==============================] - 10s 77ms/step - loss: 3.6760 - accuracy: 0.1283 - val_loss: 3.6843 - val_accuracy: 0.1291\n",
      "Epoch 21/25\n",
      "127/127 [==============================] - 10s 77ms/step - loss: 3.6150 - accuracy: 0.1381 - val_loss: 3.6239 - val_accuracy: 0.1408\n",
      "Epoch 22/25\n",
      "127/127 [==============================] - 10s 76ms/step - loss: 3.5558 - accuracy: 0.1451 - val_loss: 3.8613 - val_accuracy: 0.1095\n",
      "Epoch 23/25\n",
      "127/127 [==============================] - 10s 77ms/step - loss: 3.5383 - accuracy: 0.1488 - val_loss: 3.8312 - val_accuracy: 0.1242\n",
      "Epoch 24/25\n",
      "127/127 [==============================] - 10s 77ms/step - loss: 3.4800 - accuracy: 0.1533 - val_loss: 3.7337 - val_accuracy: 0.1345\n",
      "Epoch 25/25\n",
      "127/127 [==============================] - 10s 77ms/step - loss: 3.4625 - accuracy: 0.1613 - val_loss: 3.5543 - val_accuracy: 0.1531\n"
     ]
    },
    {
     "data": {
      "text/plain": [
       "<keras.callbacks.History at 0x22f01991250>"
      ]
     },
     "execution_count": 11,
     "metadata": {},
     "output_type": "execute_result"
    }
   ],
   "source": [
    "batch_size = 64  # Choose a batch size that fits your memory constraints\n",
    "epochs = 25\n",
    "\n",
    "model.fit(datagen.flow(train_images, train_labels, batch_size=batch_size),\n",
    "          steps_per_epoch=len(train_images) // batch_size,\n",
    "          epochs=epochs,\n",
    "          validation_data=(test_images, test_labels))"
   ]
  },
  {
   "cell_type": "code",
   "execution_count": 12,
   "metadata": {},
   "outputs": [
    {
     "name": "stdout",
     "output_type": "stream",
     "text": [
      "64/64 - 0s - loss: 3.5543 - accuracy: 0.1531 - 288ms/epoch - 4ms/step\n",
      "\n",
      "Test accuracy: 0.15305623412132263\n"
     ]
    }
   ],
   "source": [
    "test_loss, test_acc = model.evaluate(test_images,  test_labels, verbose=2)\n",
    "print('\\nTest accuracy:', test_acc)"
   ]
  }
 ],
 "metadata": {
  "kernelspec": {
   "display_name": "Python 3",
   "language": "python",
   "name": "python3"
  },
  "language_info": {
   "codemirror_mode": {
    "name": "ipython",
    "version": 3
   },
   "file_extension": ".py",
   "mimetype": "text/x-python",
   "name": "python",
   "nbconvert_exporter": "python",
   "pygments_lexer": "ipython3",
   "version": "3.9.16"
  },
  "orig_nbformat": 4
 },
 "nbformat": 4,
 "nbformat_minor": 2
}
