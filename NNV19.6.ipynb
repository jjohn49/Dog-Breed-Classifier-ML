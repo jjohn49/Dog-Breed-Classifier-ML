{
 "cells": [
  {
   "cell_type": "code",
   "execution_count": 1,
   "metadata": {},
   "outputs": [
    {
     "name": "stderr",
     "output_type": "stream",
     "text": [
      "c:\\Users\\Danny\\miniconda3\\envs\\tf\\lib\\site-packages\\requests\\__init__.py:109: RequestsDependencyWarning: urllib3 (1.26.15) or chardet (None)/charset_normalizer (3.1.0) doesn't match a supported version!\n",
      "  warnings.warn(\n"
     ]
    },
    {
     "name": "stdout",
     "output_type": "stream",
     "text": [
      "                                     id                     breed\n",
      "0      000bec180eb18c7604dcecc8fe0dba07               boston_bull\n",
      "1      001513dfcb2ffafc82cccf4d8bbaba97                     dingo\n",
      "2      001cdf01b096e06d78e9e5112d419397                  pekinese\n",
      "3      00214f311d5d2247d5dfe4fe24b2303d                  bluetick\n",
      "4      0021f9ceb3235effd7fcde7f7538ed62          golden_retriever\n",
      "...                                 ...                       ...\n",
      "10217  ffd25009d635cfd16e793503ac5edef0                    borzoi\n",
      "10218  ffd3f636f7f379c51ba3648a9ff8254f            dandie_dinmont\n",
      "10219  ffe2ca6c940cddfee68fa3cc6c63213f                  airedale\n",
      "10220  ffe5f6d8e2bff356e9482a80a6e29aac        miniature_pinscher\n",
      "10221  fff43b07992508bc822f33d8ffd902ae  chesapeake_bay_retriever\n",
      "\n",
      "[10222 rows x 2 columns]\n"
     ]
    }
   ],
   "source": [
    "import pandas as pd\n",
    "import numpy as np\n",
    "import os \n",
    "from pathlib import Path\n",
    "from PIL import Image\n",
    "import matplotlib.pyplot as plt\n",
    "from tensorflow.keras.preprocessing.image import ImageDataGenerator\n",
    "\n",
    "#TEST_IMAGE_DIR = \"./dog-breed-identification/test/\"\n",
    "TRAIN_IMAGE_DIR = \"./dog-breed-identification/train/\"\n",
    "LABELS = './dog-breed-identification/labels.csv'\n",
    "\n",
    "data = pd.read_csv(LABELS)\n",
    "class_names = data['breed'].unique()\n",
    "\n",
    "print(data)"
   ]
  },
  {
   "cell_type": "code",
   "execution_count": 2,
   "metadata": {},
   "outputs": [],
   "source": [
    "#Data from the csv only contans the ids of the photos and not the photos itself\n",
    "#Iterate through the data and check whether the photo is in test or train\n",
    "#Then fetch it and store it in its proper variable\n",
    "import tensorflow as tf\n",
    "from os.path import join\n",
    "from tensorflow.keras.utils import load_img, img_to_array\n",
    "from tensorflow.keras.applications.imagenet_utils import preprocess_input\n",
    "from sklearn.model_selection import train_test_split\n",
    "from sklearn.preprocessing import LabelEncoder\n",
    "\n",
    "def load_and_preprocess_images(image_dir, image_ids, target_size=(124, 124)):\n",
    "    image_data = []\n",
    "    for img_id in image_ids:\n",
    "        img_path = join(image_dir, img_id + \".jpg\")\n",
    "        img = load_img(img_path, target_size=target_size)\n",
    "        img_array = img_to_array(img)\n",
    "        preprocessed_img = preprocess_input(img_array) #I dont flatten the image here\n",
    "        image_data.append(preprocessed_img)\n",
    "    return np.array(image_data)\n",
    "\n",
    "# Get image IDs for train and test\n",
    "train_image_ids = data['id'].values\n",
    "labels = data['breed'].values\n",
    "# Encode labels\n",
    "label_encoder = LabelEncoder()\n",
    "encoded_labels = label_encoder.fit_transform(labels)\n",
    "\n",
    "train_image_ids, unfinished_test_image_ids, train_labels, unfinished_test_labels = train_test_split(train_image_ids, encoded_labels, test_size=0.3, random_state=42, stratify=encoded_labels)\n",
    "\n",
    "test_image_ids, val_image_ids, test_labels, val_labels = train_test_split(unfinished_test_image_ids, unfinished_test_labels, test_size=0.5, random_state=42, stratify=unfinished_test_labels)\n",
    "\n",
    "train_images = load_and_preprocess_images(TRAIN_IMAGE_DIR, train_image_ids)\n",
    "test_images = load_and_preprocess_images(TRAIN_IMAGE_DIR, test_image_ids)\n",
    "val_images = load_and_preprocess_images(TRAIN_IMAGE_DIR, val_image_ids)"
   ]
  },
  {
   "cell_type": "code",
   "execution_count": 3,
   "metadata": {},
   "outputs": [],
   "source": [
    "train_images = train_images / 250.0\n",
    "test_images = test_images / 250.0\n",
    "val_images = val_images / 250.0"
   ]
  },
  {
   "cell_type": "code",
   "execution_count": 4,
   "metadata": {},
   "outputs": [],
   "source": [
    "datagen = ImageDataGenerator(\n",
    "    rotation_range=20,\n",
    "    width_shift_range=0.2,\n",
    "    height_shift_range=0.2,\n",
    "    horizontal_flip=True,\n",
    "    zoom_range=0.2\n",
    ")\n",
    "\n",
    "datagen.fit(train_images)"
   ]
  },
  {
   "cell_type": "code",
   "execution_count": 5,
   "metadata": {},
   "outputs": [],
   "source": [
    "from tensorflow import keras\n",
    "from tensorflow.keras.layers import BatchNormalization, Dropout\n",
    "\n",
    "model = keras.Sequential([\n",
    "    tf.keras.layers.Conv2D(32, (3, 3), activation='relu', input_shape=(124, 124, 3)),\n",
    "    tf.keras.layers.BatchNormalization(),\n",
    "    tf.keras.layers.MaxPooling2D(2, 2),\n",
    "    \n",
    "    tf.keras.layers.Conv2D(64, (3, 3), activation='relu'),\n",
    "    tf.keras.layers.BatchNormalization(),\n",
    "    tf.keras.layers.MaxPooling2D(2, 2),\n",
    "    \n",
    "    tf.keras.layers.Conv2D(128, (3, 3), activation='relu'),\n",
    "    tf.keras.layers.BatchNormalization(),\n",
    "    tf.keras.layers.MaxPooling2D(2, 2),\n",
    "    \n",
    "    tf.keras.layers.Conv2D(256, (3, 3), activation='relu'),\n",
    "    tf.keras.layers.BatchNormalization(),\n",
    "    tf.keras.layers.MaxPooling2D(2, 2),\n",
    "    \n",
    "    tf.keras.layers.Flatten(),\n",
    "    \n",
    "    tf.keras.layers.Dense(512, activation=\"relu\"),\n",
    "    tf.keras.layers.BatchNormalization(),\n",
    "    tf.keras.layers.Dropout(0.5),\n",
    "    \n",
    "    tf.keras.layers.Dense(256, activation=\"relu\"),\n",
    "    tf.keras.layers.BatchNormalization(),\n",
    "    tf.keras.layers.Dropout(0.5),\n",
    "    \n",
    "    tf.keras.layers.Dense(120, activation=\"softmax\"),\n",
    "])\n"
   ]
  },
  {
   "cell_type": "code",
   "execution_count": 6,
   "metadata": {},
   "outputs": [],
   "source": [
    "model.compile(optimizer='adam',\n",
    "                loss='sparse_categorical_crossentropy',\n",
    "                metrics=['accuracy'])"
   ]
  },
  {
   "cell_type": "code",
   "execution_count": 7,
   "metadata": {},
   "outputs": [
    {
     "name": "stdout",
     "output_type": "stream",
     "text": [
      "Epoch 1/50\n",
      "89/89 [==============================] - 19s 179ms/step - loss: 5.6545 - accuracy: 0.0131 - val_loss: 5.8819 - val_accuracy: 0.0091\n",
      "Epoch 2/50\n",
      "89/89 [==============================] - 15s 166ms/step - loss: 5.1879 - accuracy: 0.0216 - val_loss: 6.7911 - val_accuracy: 0.0072\n",
      "Epoch 3/50\n",
      "89/89 [==============================] - 15s 168ms/step - loss: 4.9418 - accuracy: 0.0261 - val_loss: 5.7866 - val_accuracy: 0.0169\n",
      "Epoch 4/50\n",
      "89/89 [==============================] - 15s 165ms/step - loss: 4.7674 - accuracy: 0.0348 - val_loss: 5.6306 - val_accuracy: 0.0209\n",
      "Epoch 5/50\n",
      "89/89 [==============================] - 15s 168ms/step - loss: 4.6545 - accuracy: 0.0343 - val_loss: 5.1826 - val_accuracy: 0.0319\n",
      "Epoch 6/50\n",
      "89/89 [==============================] - 15s 165ms/step - loss: 4.5531 - accuracy: 0.0401 - val_loss: 4.3679 - val_accuracy: 0.0561\n",
      "Epoch 7/50\n",
      "89/89 [==============================] - 15s 169ms/step - loss: 4.4773 - accuracy: 0.0442 - val_loss: 4.4401 - val_accuracy: 0.0489\n",
      "Epoch 8/50\n",
      "89/89 [==============================] - 15s 168ms/step - loss: 4.3907 - accuracy: 0.0475 - val_loss: 4.2537 - val_accuracy: 0.0652\n",
      "Epoch 9/50\n",
      "89/89 [==============================] - 15s 167ms/step - loss: 4.3327 - accuracy: 0.0561 - val_loss: 4.1720 - val_accuracy: 0.0671\n",
      "Epoch 10/50\n",
      "89/89 [==============================] - 15s 163ms/step - loss: 4.2578 - accuracy: 0.0626 - val_loss: 4.0950 - val_accuracy: 0.0769\n",
      "Epoch 11/50\n",
      "89/89 [==============================] - 15s 163ms/step - loss: 4.1965 - accuracy: 0.0639 - val_loss: 4.2757 - val_accuracy: 0.0652\n",
      "Epoch 12/50\n",
      "89/89 [==============================] - 14s 160ms/step - loss: 4.1642 - accuracy: 0.0654 - val_loss: 4.0356 - val_accuracy: 0.0847\n",
      "Epoch 13/50\n",
      "89/89 [==============================] - 14s 162ms/step - loss: 4.0989 - accuracy: 0.0782 - val_loss: 4.0270 - val_accuracy: 0.0880\n",
      "Epoch 14/50\n",
      "89/89 [==============================] - 14s 160ms/step - loss: 4.0625 - accuracy: 0.0803 - val_loss: 4.0272 - val_accuracy: 0.0841\n",
      "Epoch 15/50\n",
      "89/89 [==============================] - 15s 163ms/step - loss: 3.9885 - accuracy: 0.0906 - val_loss: 4.0184 - val_accuracy: 0.1010\n",
      "Epoch 16/50\n",
      "89/89 [==============================] - 14s 160ms/step - loss: 3.9512 - accuracy: 0.0940 - val_loss: 3.9861 - val_accuracy: 0.0906\n",
      "Epoch 17/50\n",
      "89/89 [==============================] - 15s 163ms/step - loss: 3.8899 - accuracy: 0.1030 - val_loss: 4.0191 - val_accuracy: 0.0906\n",
      "Epoch 18/50\n",
      "89/89 [==============================] - 14s 160ms/step - loss: 3.8262 - accuracy: 0.1125 - val_loss: 3.8577 - val_accuracy: 0.1154\n",
      "Epoch 19/50\n",
      "89/89 [==============================] - 14s 162ms/step - loss: 3.7748 - accuracy: 0.1143 - val_loss: 3.9573 - val_accuracy: 0.0900\n",
      "Epoch 20/50\n",
      "89/89 [==============================] - 14s 162ms/step - loss: 3.7486 - accuracy: 0.1142 - val_loss: 3.7871 - val_accuracy: 0.1232\n",
      "Epoch 21/50\n",
      "89/89 [==============================] - 15s 163ms/step - loss: 3.6929 - accuracy: 0.1320 - val_loss: 3.8690 - val_accuracy: 0.1206\n",
      "Epoch 22/50\n",
      "89/89 [==============================] - 15s 163ms/step - loss: 3.6390 - accuracy: 0.1347 - val_loss: 3.6759 - val_accuracy: 0.1239\n",
      "Epoch 23/50\n",
      "89/89 [==============================] - 15s 163ms/step - loss: 3.6015 - accuracy: 0.1385 - val_loss: 3.5193 - val_accuracy: 0.1519\n",
      "Epoch 24/50\n",
      "89/89 [==============================] - 14s 162ms/step - loss: 3.5400 - accuracy: 0.1456 - val_loss: 3.4644 - val_accuracy: 0.1754\n",
      "Epoch 25/50\n",
      "89/89 [==============================] - 15s 164ms/step - loss: 3.4843 - accuracy: 0.1553 - val_loss: 3.7845 - val_accuracy: 0.1180\n",
      "Epoch 26/50\n",
      "89/89 [==============================] - 14s 161ms/step - loss: 3.4526 - accuracy: 0.1637 - val_loss: 3.5228 - val_accuracy: 0.1688\n",
      "Epoch 27/50\n",
      "89/89 [==============================] - 15s 165ms/step - loss: 3.4125 - accuracy: 0.1657 - val_loss: 3.5868 - val_accuracy: 0.1467\n",
      "Epoch 28/50\n",
      "89/89 [==============================] - 15s 165ms/step - loss: 3.3626 - accuracy: 0.1806 - val_loss: 3.5349 - val_accuracy: 0.1630\n",
      "Epoch 29/50\n",
      "89/89 [==============================] - 15s 168ms/step - loss: 3.3626 - accuracy: 0.1770 - val_loss: 3.5998 - val_accuracy: 0.1669\n",
      "Epoch 30/50\n",
      "89/89 [==============================] - 15s 165ms/step - loss: 3.2877 - accuracy: 0.1890 - val_loss: 3.5711 - val_accuracy: 0.1578\n",
      "Epoch 31/50\n",
      "89/89 [==============================] - 15s 167ms/step - loss: 3.2448 - accuracy: 0.2001 - val_loss: 3.4541 - val_accuracy: 0.1760\n",
      "Epoch 32/50\n",
      "89/89 [==============================] - 15s 165ms/step - loss: 3.2118 - accuracy: 0.2017 - val_loss: 3.6824 - val_accuracy: 0.1506\n",
      "Epoch 33/50\n",
      "89/89 [==============================] - 15s 167ms/step - loss: 3.1950 - accuracy: 0.2021 - val_loss: 3.2886 - val_accuracy: 0.1988\n",
      "Epoch 34/50\n",
      "89/89 [==============================] - 15s 165ms/step - loss: 3.1533 - accuracy: 0.2113 - val_loss: 3.5234 - val_accuracy: 0.1845\n",
      "Epoch 35/50\n",
      "89/89 [==============================] - 15s 166ms/step - loss: 3.1201 - accuracy: 0.2148 - val_loss: 3.2746 - val_accuracy: 0.2184\n",
      "Epoch 36/50\n",
      "89/89 [==============================] - 15s 167ms/step - loss: 3.0713 - accuracy: 0.2271 - val_loss: 3.2243 - val_accuracy: 0.2229\n",
      "Epoch 37/50\n",
      "89/89 [==============================] - 15s 169ms/step - loss: 3.0738 - accuracy: 0.2302 - val_loss: 3.2907 - val_accuracy: 0.2060\n",
      "Epoch 38/50\n",
      "89/89 [==============================] - 15s 164ms/step - loss: 3.0290 - accuracy: 0.2358 - val_loss: 3.3290 - val_accuracy: 0.2138\n",
      "Epoch 39/50\n",
      "89/89 [==============================] - 15s 168ms/step - loss: 2.9715 - accuracy: 0.2416 - val_loss: 3.3790 - val_accuracy: 0.1975\n",
      "Epoch 40/50\n",
      "89/89 [==============================] - 15s 165ms/step - loss: 2.9716 - accuracy: 0.2424 - val_loss: 3.1058 - val_accuracy: 0.2405\n",
      "Epoch 41/50\n",
      "89/89 [==============================] - 15s 168ms/step - loss: 2.9190 - accuracy: 0.2530 - val_loss: 3.2329 - val_accuracy: 0.2399\n",
      "Epoch 42/50\n",
      "89/89 [==============================] - 15s 167ms/step - loss: 2.8793 - accuracy: 0.2663 - val_loss: 3.4197 - val_accuracy: 0.1969\n",
      "Epoch 43/50\n",
      "89/89 [==============================] - 15s 167ms/step - loss: 2.8584 - accuracy: 0.2765 - val_loss: 3.4246 - val_accuracy: 0.2008\n",
      "Epoch 44/50\n",
      "89/89 [==============================] - 15s 168ms/step - loss: 2.8426 - accuracy: 0.2674 - val_loss: 3.1931 - val_accuracy: 0.2334\n",
      "Epoch 45/50\n",
      "89/89 [==============================] - 15s 169ms/step - loss: 2.8377 - accuracy: 0.2727 - val_loss: 3.3415 - val_accuracy: 0.2282\n",
      "Epoch 46/50\n",
      "89/89 [==============================] - 15s 165ms/step - loss: 2.7814 - accuracy: 0.2807 - val_loss: 3.0940 - val_accuracy: 0.2601\n",
      "Epoch 47/50\n",
      "89/89 [==============================] - 15s 169ms/step - loss: 2.7936 - accuracy: 0.2748 - val_loss: 3.1514 - val_accuracy: 0.2373\n",
      "Epoch 48/50\n",
      "89/89 [==============================] - 15s 165ms/step - loss: 2.7441 - accuracy: 0.2883 - val_loss: 3.0738 - val_accuracy: 0.2536\n",
      "Epoch 49/50\n",
      "89/89 [==============================] - 15s 169ms/step - loss: 2.6869 - accuracy: 0.2982 - val_loss: 3.2988 - val_accuracy: 0.2223\n",
      "Epoch 50/50\n",
      "89/89 [==============================] - 15s 165ms/step - loss: 2.6925 - accuracy: 0.2960 - val_loss: 3.2364 - val_accuracy: 0.2288\n"
     ]
    },
    {
     "data": {
      "text/plain": [
       "<keras.callbacks.History at 0x1844270d370>"
      ]
     },
     "execution_count": 7,
     "metadata": {},
     "output_type": "execute_result"
    }
   ],
   "source": [
    "batch_size = 80  # Choose a batch size that fits your memory constraints\n",
    "epochs = 50\n",
    "\n",
    "model.fit(datagen.flow(train_images, train_labels, batch_size=batch_size),\n",
    "          steps_per_epoch=len(train_images) // batch_size,\n",
    "          epochs=epochs,\n",
    "          validation_data=(val_images, val_labels))"
   ]
  },
  {
   "cell_type": "code",
   "execution_count": 8,
   "metadata": {},
   "outputs": [
    {
     "name": "stdout",
     "output_type": "stream",
     "text": [
      "48/48 - 0s - loss: 3.3482 - accuracy: 0.1963 - 377ms/epoch - 8ms/step\n",
      "\n",
      "Test accuracy: 0.19634702801704407\n"
     ]
    }
   ],
   "source": [
    "test_loss, test_acc = model.evaluate(test_images,  test_labels, verbose=2)\n",
    "print('\\nTest accuracy:', test_acc)"
   ]
  }
 ],
 "metadata": {
  "kernelspec": {
   "display_name": "Python 3",
   "language": "python",
   "name": "python3"
  },
  "language_info": {
   "codemirror_mode": {
    "name": "ipython",
    "version": 3
   },
   "file_extension": ".py",
   "mimetype": "text/x-python",
   "name": "python",
   "nbconvert_exporter": "python",
   "pygments_lexer": "ipython3",
   "version": "3.9.16"
  },
  "orig_nbformat": 4
 },
 "nbformat": 4,
 "nbformat_minor": 2
}
