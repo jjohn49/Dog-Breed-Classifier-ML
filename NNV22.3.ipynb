{
 "cells": [
  {
   "cell_type": "code",
   "execution_count": 1,
   "metadata": {},
   "outputs": [
    {
     "name": "stderr",
     "output_type": "stream",
     "text": [
      "c:\\Users\\Danny\\miniconda3\\envs\\tf\\lib\\site-packages\\requests\\__init__.py:109: RequestsDependencyWarning: urllib3 (1.26.15) or chardet (None)/charset_normalizer (3.1.0) doesn't match a supported version!\n",
      "  warnings.warn(\n"
     ]
    },
    {
     "name": "stdout",
     "output_type": "stream",
     "text": [
      "                                     id                     breed\n",
      "0      000bec180eb18c7604dcecc8fe0dba07               boston_bull\n",
      "1      001513dfcb2ffafc82cccf4d8bbaba97                     dingo\n",
      "2      001cdf01b096e06d78e9e5112d419397                  pekinese\n",
      "3      00214f311d5d2247d5dfe4fe24b2303d                  bluetick\n",
      "4      0021f9ceb3235effd7fcde7f7538ed62          golden_retriever\n",
      "...                                 ...                       ...\n",
      "10217  ffd25009d635cfd16e793503ac5edef0                    borzoi\n",
      "10218  ffd3f636f7f379c51ba3648a9ff8254f            dandie_dinmont\n",
      "10219  ffe2ca6c940cddfee68fa3cc6c63213f                  airedale\n",
      "10220  ffe5f6d8e2bff356e9482a80a6e29aac        miniature_pinscher\n",
      "10221  fff43b07992508bc822f33d8ffd902ae  chesapeake_bay_retriever\n",
      "\n",
      "[10222 rows x 2 columns]\n"
     ]
    }
   ],
   "source": [
    "import pandas as pd\n",
    "import numpy as np\n",
    "import os \n",
    "from pathlib import Path\n",
    "from PIL import Image\n",
    "import matplotlib.pyplot as plt\n",
    "from tensorflow.keras.preprocessing.image import ImageDataGenerator\n",
    "\n",
    "#TEST_IMAGE_DIR = \"./dog-breed-identification/test/\"\n",
    "TRAIN_IMAGE_DIR = \"./dog-breed-identification/train/\"\n",
    "LABELS = './dog-breed-identification/labels.csv'\n",
    "\n",
    "data = pd.read_csv(LABELS)\n",
    "class_names = data['breed'].unique()\n",
    "\n",
    "print(data)"
   ]
  },
  {
   "cell_type": "code",
   "execution_count": 2,
   "metadata": {},
   "outputs": [],
   "source": [
    "#Data from the csv only contans the ids of the photos and not the photos itself\n",
    "#Iterate through the data and check whether the photo is in test or train\n",
    "#Then fetch it and store it in its proper variable\n",
    "import tensorflow as tf\n",
    "from os.path import join\n",
    "from tensorflow.keras.utils import load_img, img_to_array\n",
    "from tensorflow.keras.applications.imagenet_utils import preprocess_input\n",
    "from sklearn.model_selection import train_test_split\n",
    "from sklearn.preprocessing import LabelEncoder\n",
    "\n",
    "def load_and_preprocess_images(image_dir, image_ids, target_size=(224, 224)):\n",
    "    image_data = []\n",
    "    for img_id in image_ids:\n",
    "        img_path = join(image_dir, img_id + \".jpg\")\n",
    "        img = load_img(img_path, target_size=target_size)\n",
    "        img_array = img_to_array(img)\n",
    "        preprocessed_img = preprocess_input(img_array) #I dont flatten the image here\n",
    "        image_data.append(preprocessed_img)\n",
    "    return np.array(image_data)\n",
    "\n",
    "# Get image IDs for train and test\n",
    "train_image_ids = data['id'].values\n",
    "labels = data['breed'].values\n",
    "# Encode labels\n",
    "label_encoder = LabelEncoder()\n",
    "encoded_labels = label_encoder.fit_transform(labels)\n",
    "\n",
    "train_image_ids, unfinished_test_image_ids, train_labels, unfinished_test_labels = train_test_split(train_image_ids, encoded_labels, test_size=0.3, random_state=42, stratify=encoded_labels)\n",
    "\n",
    "test_image_ids, val_image_ids, test_labels, val_labels = train_test_split(unfinished_test_image_ids, unfinished_test_labels, test_size=0.5, random_state=42, stratify=unfinished_test_labels)\n",
    "\n",
    "train_images = load_and_preprocess_images(TRAIN_IMAGE_DIR, train_image_ids)\n",
    "test_images = load_and_preprocess_images(TRAIN_IMAGE_DIR, test_image_ids)\n",
    "val_images = load_and_preprocess_images(TRAIN_IMAGE_DIR, val_image_ids)"
   ]
  },
  {
   "cell_type": "code",
   "execution_count": 3,
   "metadata": {},
   "outputs": [],
   "source": [
    "train_images = train_images / 250.0\n",
    "test_images = test_images / 250.0\n",
    "val_images = val_images / 250.0"
   ]
  },
  {
   "cell_type": "code",
   "execution_count": 4,
   "metadata": {},
   "outputs": [],
   "source": [
    "datagen = ImageDataGenerator(\n",
    "    rotation_range=20,\n",
    "    width_shift_range=0.2,\n",
    "    height_shift_range=0.2,\n",
    "    horizontal_flip=True,\n",
    "    zoom_range=0.2\n",
    ")\n",
    "\n",
    "datagen.fit(train_images)"
   ]
  },
  {
   "cell_type": "code",
   "execution_count": 5,
   "metadata": {},
   "outputs": [],
   "source": [
    "from tensorflow import keras\n",
    "from tensorflow.keras.layers import BatchNormalization, Dropout\n",
    "\n",
    "model = keras.Sequential([\n",
    "    tf.keras.layers.Conv2D(32, (3, 3), activation='relu', input_shape=(224, 224, 3)),\n",
    "    tf.keras.layers.BatchNormalization(),\n",
    "    tf.keras.layers.MaxPooling2D(2, 2),\n",
    "    \n",
    "    tf.keras.layers.Conv2D(64, (3, 3), activation='relu'),\n",
    "    tf.keras.layers.BatchNormalization(),\n",
    "    tf.keras.layers.MaxPooling2D(2, 2),\n",
    "    \n",
    "    tf.keras.layers.Conv2D(128, (3, 3), activation='relu'),\n",
    "    tf.keras.layers.BatchNormalization(),\n",
    "    tf.keras.layers.MaxPooling2D(2, 2),\n",
    "    \n",
    "    tf.keras.layers.Conv2D(256, (3, 3), activation='relu'),\n",
    "    tf.keras.layers.BatchNormalization(),\n",
    "    tf.keras.layers.MaxPooling2D(2, 2),\n",
    "    \n",
    "    tf.keras.layers.Flatten(),\n",
    "    \n",
    "    tf.keras.layers.Dense(512, activation=\"relu\"),\n",
    "    tf.keras.layers.BatchNormalization(),\n",
    "    tf.keras.layers.Dropout(0.5),\n",
    "    \n",
    "    tf.keras.layers.Dense(256, activation=\"relu\"),\n",
    "    tf.keras.layers.BatchNormalization(),\n",
    "    tf.keras.layers.Dropout(0.5),\n",
    "    \n",
    "    tf.keras.layers.Dense(120, activation=\"softmax\"),\n",
    "])\n"
   ]
  },
  {
   "cell_type": "code",
   "execution_count": 6,
   "metadata": {},
   "outputs": [],
   "source": [
    "model.compile(optimizer='adam',\n",
    "                loss='sparse_categorical_crossentropy',\n",
    "                metrics=['accuracy'])"
   ]
  },
  {
   "cell_type": "code",
   "execution_count": 7,
   "metadata": {},
   "outputs": [
    {
     "name": "stdout",
     "output_type": "stream",
     "text": [
      "Epoch 1/50\n",
      "89/89 [==============================] - 49s 499ms/step - loss: 5.6283 - accuracy: 0.0119 - val_loss: 5.4926 - val_accuracy: 0.0078\n",
      "Epoch 2/50\n",
      "89/89 [==============================] - 44s 488ms/step - loss: 5.1960 - accuracy: 0.0192 - val_loss: 5.5186 - val_accuracy: 0.0169\n",
      "Epoch 3/50\n",
      "89/89 [==============================] - 44s 489ms/step - loss: 4.9690 - accuracy: 0.0270 - val_loss: 5.3549 - val_accuracy: 0.0196\n",
      "Epoch 4/50\n",
      "89/89 [==============================] - 44s 493ms/step - loss: 4.7939 - accuracy: 0.0314 - val_loss: 5.1493 - val_accuracy: 0.0215\n",
      "Epoch 5/50\n",
      "89/89 [==============================] - 44s 489ms/step - loss: 4.6445 - accuracy: 0.0367 - val_loss: 4.7955 - val_accuracy: 0.0293\n",
      "Epoch 6/50\n",
      "89/89 [==============================] - 44s 488ms/step - loss: 4.5272 - accuracy: 0.0466 - val_loss: 4.4575 - val_accuracy: 0.0456\n",
      "Epoch 7/50\n",
      "89/89 [==============================] - 44s 489ms/step - loss: 4.4278 - accuracy: 0.0524 - val_loss: 4.4138 - val_accuracy: 0.0469\n",
      "Epoch 8/50\n",
      "89/89 [==============================] - 43s 486ms/step - loss: 4.3731 - accuracy: 0.0547 - val_loss: 4.1369 - val_accuracy: 0.0711\n",
      "Epoch 9/50\n",
      "89/89 [==============================] - 44s 489ms/step - loss: 4.2874 - accuracy: 0.0639 - val_loss: 4.2842 - val_accuracy: 0.0658\n",
      "Epoch 10/50\n",
      "89/89 [==============================] - 44s 488ms/step - loss: 4.2110 - accuracy: 0.0717 - val_loss: 4.0504 - val_accuracy: 0.0893\n",
      "Epoch 11/50\n",
      "89/89 [==============================] - 44s 489ms/step - loss: 4.1542 - accuracy: 0.0731 - val_loss: 4.1838 - val_accuracy: 0.0802\n",
      "Epoch 12/50\n",
      "89/89 [==============================] - 43s 484ms/step - loss: 4.0753 - accuracy: 0.0878 - val_loss: 3.9932 - val_accuracy: 0.0939\n",
      "Epoch 13/50\n",
      "89/89 [==============================] - 43s 487ms/step - loss: 4.0262 - accuracy: 0.0861 - val_loss: 3.9793 - val_accuracy: 0.1043\n",
      "Epoch 14/50\n",
      "89/89 [==============================] - 43s 487ms/step - loss: 3.9678 - accuracy: 0.0958 - val_loss: 4.0580 - val_accuracy: 0.0880\n",
      "Epoch 15/50\n",
      "89/89 [==============================] - 44s 491ms/step - loss: 3.9039 - accuracy: 0.0970 - val_loss: 3.9662 - val_accuracy: 0.1069\n",
      "Epoch 16/50\n",
      "89/89 [==============================] - 43s 483ms/step - loss: 3.8762 - accuracy: 0.1023 - val_loss: 4.0662 - val_accuracy: 0.1076\n",
      "Epoch 17/50\n",
      "89/89 [==============================] - 44s 488ms/step - loss: 3.8240 - accuracy: 0.1165 - val_loss: 4.0309 - val_accuracy: 0.0913\n",
      "Epoch 18/50\n",
      "89/89 [==============================] - 43s 486ms/step - loss: 3.7352 - accuracy: 0.1225 - val_loss: 3.7837 - val_accuracy: 0.1199\n",
      "Epoch 19/50\n",
      "89/89 [==============================] - 43s 486ms/step - loss: 3.7017 - accuracy: 0.1251 - val_loss: 3.9014 - val_accuracy: 0.0978\n",
      "Epoch 20/50\n",
      "89/89 [==============================] - 43s 485ms/step - loss: 3.6397 - accuracy: 0.1372 - val_loss: 3.8707 - val_accuracy: 0.1102\n",
      "Epoch 21/50\n",
      "89/89 [==============================] - 44s 490ms/step - loss: 3.5903 - accuracy: 0.1494 - val_loss: 3.7942 - val_accuracy: 0.1258\n",
      "Epoch 22/50\n",
      "89/89 [==============================] - 43s 485ms/step - loss: 3.5299 - accuracy: 0.1525 - val_loss: 3.6765 - val_accuracy: 0.1473\n",
      "Epoch 23/50\n",
      "89/89 [==============================] - 44s 489ms/step - loss: 3.4945 - accuracy: 0.1543 - val_loss: 3.7014 - val_accuracy: 0.1369\n",
      "Epoch 24/50\n",
      "89/89 [==============================] - 43s 485ms/step - loss: 3.4379 - accuracy: 0.1651 - val_loss: 3.4775 - val_accuracy: 0.1688\n",
      "Epoch 25/50\n",
      "89/89 [==============================] - 44s 489ms/step - loss: 3.3712 - accuracy: 0.1806 - val_loss: 3.5555 - val_accuracy: 0.1532\n",
      "Epoch 26/50\n",
      "89/89 [==============================] - 43s 486ms/step - loss: 3.3376 - accuracy: 0.1890 - val_loss: 3.6914 - val_accuracy: 0.1434\n",
      "Epoch 27/50\n",
      "89/89 [==============================] - 44s 489ms/step - loss: 3.2839 - accuracy: 0.1876 - val_loss: 3.4315 - val_accuracy: 0.1864\n",
      "Epoch 28/50\n",
      "89/89 [==============================] - 43s 486ms/step - loss: 3.2408 - accuracy: 0.1929 - val_loss: 3.3087 - val_accuracy: 0.1982\n",
      "Epoch 29/50\n",
      "89/89 [==============================] - 44s 489ms/step - loss: 3.1748 - accuracy: 0.2038 - val_loss: 3.4476 - val_accuracy: 0.1682\n",
      "Epoch 30/50\n",
      "89/89 [==============================] - 43s 486ms/step - loss: 3.1523 - accuracy: 0.2161 - val_loss: 3.3175 - val_accuracy: 0.1904\n",
      "Epoch 31/50\n",
      "89/89 [==============================] - 44s 489ms/step - loss: 3.1068 - accuracy: 0.2215 - val_loss: 3.3552 - val_accuracy: 0.1910\n",
      "Epoch 32/50\n",
      "89/89 [==============================] - 43s 485ms/step - loss: 3.0591 - accuracy: 0.2315 - val_loss: 3.2747 - val_accuracy: 0.2040\n",
      "Epoch 33/50\n",
      "89/89 [==============================] - 44s 489ms/step - loss: 3.0264 - accuracy: 0.2331 - val_loss: 3.3176 - val_accuracy: 0.1864\n",
      "Epoch 34/50\n",
      "89/89 [==============================] - 44s 488ms/step - loss: 3.0000 - accuracy: 0.2397 - val_loss: 3.2951 - val_accuracy: 0.2047\n",
      "Epoch 35/50\n",
      "89/89 [==============================] - 44s 491ms/step - loss: 2.9347 - accuracy: 0.2485 - val_loss: 3.2504 - val_accuracy: 0.2112\n",
      "Epoch 36/50\n",
      "89/89 [==============================] - 43s 487ms/step - loss: 2.9132 - accuracy: 0.2563 - val_loss: 3.3439 - val_accuracy: 0.1897\n",
      "Epoch 37/50\n",
      "89/89 [==============================] - 44s 489ms/step - loss: 2.8779 - accuracy: 0.2564 - val_loss: 3.2044 - val_accuracy: 0.2243\n",
      "Epoch 38/50\n",
      "89/89 [==============================] - 44s 493ms/step - loss: 2.8105 - accuracy: 0.2753 - val_loss: 3.1872 - val_accuracy: 0.2177\n",
      "Epoch 39/50\n",
      "89/89 [==============================] - 44s 490ms/step - loss: 2.8292 - accuracy: 0.2712 - val_loss: 3.3160 - val_accuracy: 0.2119\n",
      "Epoch 40/50\n",
      "89/89 [==============================] - 44s 488ms/step - loss: 2.7944 - accuracy: 0.2717 - val_loss: 3.2754 - val_accuracy: 0.2171\n",
      "Epoch 41/50\n",
      "89/89 [==============================] - 44s 490ms/step - loss: 2.7216 - accuracy: 0.2868 - val_loss: 3.1553 - val_accuracy: 0.2171\n",
      "Epoch 42/50\n",
      "89/89 [==============================] - 43s 487ms/step - loss: 2.7195 - accuracy: 0.2917 - val_loss: 3.0318 - val_accuracy: 0.2445\n",
      "Epoch 43/50\n",
      "89/89 [==============================] - 44s 491ms/step - loss: 2.6738 - accuracy: 0.2954 - val_loss: 3.0598 - val_accuracy: 0.2353\n",
      "Epoch 44/50\n",
      "89/89 [==============================] - 43s 485ms/step - loss: 2.6254 - accuracy: 0.3095 - val_loss: 3.4229 - val_accuracy: 0.2093\n",
      "Epoch 45/50\n",
      "89/89 [==============================] - 44s 489ms/step - loss: 2.6069 - accuracy: 0.3125 - val_loss: 3.3151 - val_accuracy: 0.2086\n",
      "Epoch 46/50\n",
      "89/89 [==============================] - 43s 487ms/step - loss: 2.5922 - accuracy: 0.3204 - val_loss: 3.0222 - val_accuracy: 0.2568\n",
      "Epoch 47/50\n",
      "89/89 [==============================] - 44s 489ms/step - loss: 2.5154 - accuracy: 0.3299 - val_loss: 3.0886 - val_accuracy: 0.2321\n",
      "Epoch 48/50\n",
      "89/89 [==============================] - 44s 488ms/step - loss: 2.4967 - accuracy: 0.3402 - val_loss: 3.1644 - val_accuracy: 0.2451\n",
      "Epoch 49/50\n",
      "89/89 [==============================] - 44s 490ms/step - loss: 2.4593 - accuracy: 0.3456 - val_loss: 3.1035 - val_accuracy: 0.2529\n",
      "Epoch 50/50\n",
      "89/89 [==============================] - 43s 487ms/step - loss: 2.4396 - accuracy: 0.3453 - val_loss: 3.2243 - val_accuracy: 0.2236\n"
     ]
    },
    {
     "data": {
      "text/plain": [
       "<keras.callbacks.History at 0x1e4c3740670>"
      ]
     },
     "execution_count": 7,
     "metadata": {},
     "output_type": "execute_result"
    }
   ],
   "source": [
    "batch_size = 80  # Choose a batch size that fits your memory constraints\n",
    "epochs = 50\n",
    "\n",
    "model.fit(datagen.flow(train_images, train_labels, batch_size=batch_size),\n",
    "          steps_per_epoch=len(train_images) // batch_size,\n",
    "          epochs=epochs,\n",
    "          validation_data=(val_images, val_labels))"
   ]
  },
  {
   "cell_type": "code",
   "execution_count": 8,
   "metadata": {},
   "outputs": [
    {
     "name": "stdout",
     "output_type": "stream",
     "text": [
      "48/48 - 1s - loss: 3.2882 - accuracy: 0.2237 - 923ms/epoch - 19ms/step\n",
      "\n",
      "Test accuracy: 0.22374428808689117\n"
     ]
    }
   ],
   "source": [
    "test_loss, test_acc = model.evaluate(test_images,  test_labels, verbose=2)\n",
    "print('\\nTest accuracy:', test_acc)"
   ]
  }
 ],
 "metadata": {
  "kernelspec": {
   "display_name": "Python 3",
   "language": "python",
   "name": "python3"
  },
  "language_info": {
   "codemirror_mode": {
    "name": "ipython",
    "version": 3
   },
   "file_extension": ".py",
   "mimetype": "text/x-python",
   "name": "python",
   "nbconvert_exporter": "python",
   "pygments_lexer": "ipython3",
   "version": "3.9.16"
  },
  "orig_nbformat": 4
 },
 "nbformat": 4,
 "nbformat_minor": 2
}
