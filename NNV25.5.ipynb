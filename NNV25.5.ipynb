{
 "cells": [
  {
   "cell_type": "code",
   "execution_count": 1,
   "metadata": {},
   "outputs": [
    {
     "name": "stderr",
     "output_type": "stream",
     "text": [
      "c:\\Users\\Danny\\miniconda3\\envs\\tf\\lib\\site-packages\\requests\\__init__.py:109: RequestsDependencyWarning: urllib3 (1.26.15) or chardet (None)/charset_normalizer (3.1.0) doesn't match a supported version!\n",
      "  warnings.warn(\n"
     ]
    },
    {
     "name": "stdout",
     "output_type": "stream",
     "text": [
      "                                     id                     breed\n",
      "0      000bec180eb18c7604dcecc8fe0dba07               boston_bull\n",
      "1      001513dfcb2ffafc82cccf4d8bbaba97                     dingo\n",
      "2      001cdf01b096e06d78e9e5112d419397                  pekinese\n",
      "3      00214f311d5d2247d5dfe4fe24b2303d                  bluetick\n",
      "4      0021f9ceb3235effd7fcde7f7538ed62          golden_retriever\n",
      "...                                 ...                       ...\n",
      "10217  ffd25009d635cfd16e793503ac5edef0                    borzoi\n",
      "10218  ffd3f636f7f379c51ba3648a9ff8254f            dandie_dinmont\n",
      "10219  ffe2ca6c940cddfee68fa3cc6c63213f                  airedale\n",
      "10220  ffe5f6d8e2bff356e9482a80a6e29aac        miniature_pinscher\n",
      "10221  fff43b07992508bc822f33d8ffd902ae  chesapeake_bay_retriever\n",
      "\n",
      "[10222 rows x 2 columns]\n"
     ]
    }
   ],
   "source": [
    "import pandas as pd\n",
    "import numpy as np\n",
    "import os \n",
    "from pathlib import Path\n",
    "from PIL import Image\n",
    "import matplotlib.pyplot as plt\n",
    "from tensorflow.keras.preprocessing.image import ImageDataGenerator\n",
    "\n",
    "#TEST_IMAGE_DIR = \"./dog-breed-identification/test/\"\n",
    "TRAIN_IMAGE_DIR = \"./dog-breed-identification/train/\"\n",
    "LABELS = './dog-breed-identification/labels.csv'\n",
    "\n",
    "data = pd.read_csv(LABELS)\n",
    "class_names = data['breed'].unique()\n",
    "\n",
    "print(data)"
   ]
  },
  {
   "cell_type": "code",
   "execution_count": 2,
   "metadata": {},
   "outputs": [],
   "source": [
    "#Data from the csv only contans the ids of the photos and not the photos itself\n",
    "#Iterate through the data and check whether the photo is in test or train\n",
    "#Then fetch it and store it in its proper variable\n",
    "import tensorflow as tf\n",
    "from os.path import join\n",
    "from tensorflow.keras.utils import load_img, img_to_array\n",
    "from tensorflow.keras.applications.imagenet_utils import preprocess_input\n",
    "from sklearn.model_selection import train_test_split\n",
    "from sklearn.preprocessing import LabelEncoder\n",
    "\n",
    "def load_and_preprocess_images(image_dir, image_ids, target_size=(224, 224)):\n",
    "    image_data = []\n",
    "    for img_id in image_ids:\n",
    "        img_path = join(image_dir, img_id + \".jpg\")\n",
    "        img = load_img(img_path, target_size=target_size)\n",
    "        img_array = img_to_array(img)\n",
    "        preprocessed_img = preprocess_input(img_array) #I dont flatten the image here\n",
    "        image_data.append(preprocessed_img)\n",
    "    return np.array(image_data)\n",
    "\n",
    "# Get image IDs for train and test\n",
    "train_image_ids = data['id'].values\n",
    "labels = data['breed'].values\n",
    "# Encode labels\n",
    "label_encoder = LabelEncoder()\n",
    "encoded_labels = label_encoder.fit_transform(labels)\n",
    "\n",
    "train_image_ids, unfinished_test_image_ids, train_labels, unfinished_test_labels = train_test_split(train_image_ids, encoded_labels, test_size=0.3, random_state=42, stratify=encoded_labels)\n",
    "\n",
    "test_image_ids, val_image_ids, test_labels, val_labels = train_test_split(unfinished_test_image_ids, unfinished_test_labels, test_size=0.5, random_state=42, stratify=unfinished_test_labels)\n",
    "\n",
    "train_images = load_and_preprocess_images(TRAIN_IMAGE_DIR, train_image_ids)\n",
    "test_images = load_and_preprocess_images(TRAIN_IMAGE_DIR, test_image_ids)\n",
    "val_images = load_and_preprocess_images(TRAIN_IMAGE_DIR, val_image_ids)"
   ]
  },
  {
   "cell_type": "code",
   "execution_count": 3,
   "metadata": {},
   "outputs": [],
   "source": [
    "train_images = train_images / 250.0\n",
    "test_images = test_images / 250.0\n",
    "val_images = val_images / 250.0"
   ]
  },
  {
   "cell_type": "code",
   "execution_count": 4,
   "metadata": {},
   "outputs": [],
   "source": [
    "datagen = ImageDataGenerator(\n",
    "    rotation_range=20,\n",
    "    width_shift_range=0.2,\n",
    "    height_shift_range=0.2,\n",
    "    horizontal_flip=True,\n",
    "    zoom_range=0.2\n",
    ")\n",
    "\n",
    "datagen.fit(train_images)"
   ]
  },
  {
   "cell_type": "code",
   "execution_count": 5,
   "metadata": {},
   "outputs": [],
   "source": [
    "from tensorflow import keras\n",
    "from tensorflow.keras.layers import BatchNormalization, Dropout\n",
    "\n",
    "model = keras.Sequential([\n",
    "    tf.keras.layers.Conv2D(32, (3, 3), activation='relu', input_shape=(224, 224, 3)),\n",
    "    tf.keras.layers.BatchNormalization(),\n",
    "    tf.keras.layers.MaxPooling2D(2, 2),\n",
    "    \n",
    "    tf.keras.layers.Conv2D(64, (3, 3), activation='relu'),\n",
    "    tf.keras.layers.BatchNormalization(),\n",
    "    tf.keras.layers.MaxPooling2D(2, 2),\n",
    "    \n",
    "    tf.keras.layers.Conv2D(128, (3, 3), activation='relu'),\n",
    "    tf.keras.layers.BatchNormalization(),\n",
    "    tf.keras.layers.MaxPooling2D(2, 2),\n",
    "    \n",
    "    tf.keras.layers.Conv2D(256, (3, 3), activation='relu'),\n",
    "    tf.keras.layers.BatchNormalization(),\n",
    "    tf.keras.layers.MaxPooling2D(2, 2),\n",
    "    \n",
    "    tf.keras.layers.Flatten(),\n",
    "    \n",
    "    tf.keras.layers.Dense(512, activation=\"relu\"),\n",
    "    tf.keras.layers.BatchNormalization(),\n",
    "    tf.keras.layers.Dropout(0.5),\n",
    "    \n",
    "    tf.keras.layers.Dense(256, activation=\"relu\"),\n",
    "    tf.keras.layers.BatchNormalization(),\n",
    "    tf.keras.layers.Dropout(0.5),\n",
    "    \n",
    "    tf.keras.layers.Dense(120, activation=\"softmax\"),\n",
    "])\n"
   ]
  },
  {
   "cell_type": "code",
   "execution_count": 6,
   "metadata": {},
   "outputs": [],
   "source": [
    "model.compile(optimizer='adam',\n",
    "                loss='sparse_categorical_crossentropy',\n",
    "                metrics=['accuracy'])"
   ]
  },
  {
   "cell_type": "code",
   "execution_count": 7,
   "metadata": {},
   "outputs": [
    {
     "name": "stdout",
     "output_type": "stream",
     "text": [
      "Epoch 1/60\n",
      "71/71 [==============================] - 53s 626ms/step - loss: 5.6601 - accuracy: 0.0129 - val_loss: 6.7687 - val_accuracy: 0.0124\n",
      "Epoch 2/60\n",
      "71/71 [==============================] - 42s 596ms/step - loss: 5.2185 - accuracy: 0.0204 - val_loss: 6.4015 - val_accuracy: 0.0085\n",
      "Epoch 3/60\n",
      "71/71 [==============================] - 42s 594ms/step - loss: 5.0031 - accuracy: 0.0225 - val_loss: 6.0996 - val_accuracy: 0.0130\n",
      "Epoch 4/60\n",
      "71/71 [==============================] - 43s 603ms/step - loss: 4.8414 - accuracy: 0.0309 - val_loss: 5.1600 - val_accuracy: 0.0183\n",
      "Epoch 5/60\n",
      "71/71 [==============================] - 42s 591ms/step - loss: 4.6942 - accuracy: 0.0360 - val_loss: 5.4222 - val_accuracy: 0.0130\n",
      "Epoch 6/60\n",
      "71/71 [==============================] - 42s 589ms/step - loss: 4.5839 - accuracy: 0.0394 - val_loss: 4.9692 - val_accuracy: 0.0215\n",
      "Epoch 7/60\n",
      "71/71 [==============================] - 42s 593ms/step - loss: 4.4878 - accuracy: 0.0471 - val_loss: 4.5490 - val_accuracy: 0.0346\n",
      "Epoch 8/60\n",
      "71/71 [==============================] - 42s 593ms/step - loss: 4.4156 - accuracy: 0.0523 - val_loss: 4.2758 - val_accuracy: 0.0554\n",
      "Epoch 9/60\n",
      "71/71 [==============================] - 42s 595ms/step - loss: 4.3175 - accuracy: 0.0592 - val_loss: 4.2761 - val_accuracy: 0.0619\n",
      "Epoch 10/60\n",
      "71/71 [==============================] - 42s 591ms/step - loss: 4.2726 - accuracy: 0.0645 - val_loss: 4.0842 - val_accuracy: 0.0874\n",
      "Epoch 11/60\n",
      "71/71 [==============================] - 42s 596ms/step - loss: 4.1925 - accuracy: 0.0771 - val_loss: 4.1367 - val_accuracy: 0.0776\n",
      "Epoch 12/60\n",
      "71/71 [==============================] - 42s 588ms/step - loss: 4.1448 - accuracy: 0.0719 - val_loss: 4.0749 - val_accuracy: 0.1010\n",
      "Epoch 13/60\n",
      "71/71 [==============================] - 43s 600ms/step - loss: 4.0614 - accuracy: 0.0812 - val_loss: 4.0972 - val_accuracy: 0.0795\n",
      "Epoch 14/60\n",
      "71/71 [==============================] - 42s 588ms/step - loss: 3.9968 - accuracy: 0.0872 - val_loss: 4.0256 - val_accuracy: 0.0984\n",
      "Epoch 15/60\n",
      "71/71 [==============================] - 43s 597ms/step - loss: 3.9357 - accuracy: 0.0945 - val_loss: 4.0137 - val_accuracy: 0.1063\n",
      "Epoch 16/60\n",
      "71/71 [==============================] - 42s 589ms/step - loss: 3.8889 - accuracy: 0.1013 - val_loss: 3.9738 - val_accuracy: 0.1037\n",
      "Epoch 17/60\n",
      "71/71 [==============================] - 43s 599ms/step - loss: 3.8216 - accuracy: 0.1093 - val_loss: 4.1349 - val_accuracy: 0.0815\n",
      "Epoch 18/60\n",
      "71/71 [==============================] - 42s 591ms/step - loss: 3.7615 - accuracy: 0.1202 - val_loss: 3.8071 - val_accuracy: 0.1219\n",
      "Epoch 19/60\n",
      "71/71 [==============================] - 43s 597ms/step - loss: 3.7116 - accuracy: 0.1296 - val_loss: 3.7484 - val_accuracy: 0.1362\n",
      "Epoch 20/60\n",
      "71/71 [==============================] - 42s 589ms/step - loss: 3.6589 - accuracy: 0.1257 - val_loss: 3.7241 - val_accuracy: 0.1330\n",
      "Epoch 21/60\n",
      "71/71 [==============================] - 42s 596ms/step - loss: 3.6052 - accuracy: 0.1413 - val_loss: 3.6718 - val_accuracy: 0.1486\n",
      "Epoch 22/60\n",
      "71/71 [==============================] - 42s 590ms/step - loss: 3.5408 - accuracy: 0.1500 - val_loss: 3.6457 - val_accuracy: 0.1408\n",
      "Epoch 23/60\n",
      "71/71 [==============================] - 42s 595ms/step - loss: 3.5008 - accuracy: 0.1583 - val_loss: 3.6478 - val_accuracy: 0.1545\n",
      "Epoch 24/60\n",
      "71/71 [==============================] - 42s 591ms/step - loss: 3.4530 - accuracy: 0.1626 - val_loss: 3.8387 - val_accuracy: 0.1317\n",
      "Epoch 25/60\n",
      "71/71 [==============================] - 45s 632ms/step - loss: 3.3986 - accuracy: 0.1779 - val_loss: 3.6257 - val_accuracy: 0.1519\n",
      "Epoch 26/60\n",
      "71/71 [==============================] - 43s 598ms/step - loss: 3.3565 - accuracy: 0.1729 - val_loss: 3.6340 - val_accuracy: 0.1708\n",
      "Epoch 27/60\n",
      "71/71 [==============================] - 44s 613ms/step - loss: 3.3077 - accuracy: 0.1857 - val_loss: 3.5547 - val_accuracy: 0.1604\n",
      "Epoch 28/60\n",
      "71/71 [==============================] - 43s 609ms/step - loss: 3.2729 - accuracy: 0.1991 - val_loss: 3.5444 - val_accuracy: 0.1617\n",
      "Epoch 29/60\n",
      "71/71 [==============================] - 43s 606ms/step - loss: 3.2361 - accuracy: 0.1982 - val_loss: 3.5965 - val_accuracy: 0.1630\n",
      "Epoch 30/60\n",
      "71/71 [==============================] - 42s 593ms/step - loss: 3.1789 - accuracy: 0.2081 - val_loss: 3.5069 - val_accuracy: 0.1721\n",
      "Epoch 31/60\n",
      "71/71 [==============================] - 43s 600ms/step - loss: 3.1509 - accuracy: 0.2115 - val_loss: 3.3530 - val_accuracy: 0.1936\n",
      "Epoch 32/60\n",
      "71/71 [==============================] - 43s 605ms/step - loss: 3.1038 - accuracy: 0.2204 - val_loss: 3.4236 - val_accuracy: 0.1943\n",
      "Epoch 33/60\n",
      "71/71 [==============================] - 43s 605ms/step - loss: 3.0706 - accuracy: 0.2275 - val_loss: 3.7141 - val_accuracy: 0.1454\n",
      "Epoch 34/60\n",
      "71/71 [==============================] - 43s 601ms/step - loss: 3.0120 - accuracy: 0.2343 - val_loss: 3.4476 - val_accuracy: 0.1871\n",
      "Epoch 35/60\n",
      "71/71 [==============================] - 42s 592ms/step - loss: 2.9704 - accuracy: 0.2448 - val_loss: 3.3905 - val_accuracy: 0.1956\n",
      "Epoch 36/60\n",
      "71/71 [==============================] - 42s 590ms/step - loss: 2.9263 - accuracy: 0.2563 - val_loss: 3.3780 - val_accuracy: 0.1812\n",
      "Epoch 37/60\n",
      "71/71 [==============================] - 42s 591ms/step - loss: 2.9016 - accuracy: 0.2641 - val_loss: 3.3201 - val_accuracy: 0.2027\n",
      "Epoch 38/60\n",
      "71/71 [==============================] - 43s 601ms/step - loss: 2.8579 - accuracy: 0.2624 - val_loss: 3.2927 - val_accuracy: 0.2099\n",
      "Epoch 39/60\n",
      "71/71 [==============================] - 42s 596ms/step - loss: 2.8110 - accuracy: 0.2670 - val_loss: 3.1398 - val_accuracy: 0.2210\n",
      "Epoch 40/60\n",
      "71/71 [==============================] - 42s 591ms/step - loss: 2.8009 - accuracy: 0.2872 - val_loss: 3.1687 - val_accuracy: 0.2471\n",
      "Epoch 41/60\n",
      "71/71 [==============================] - 43s 597ms/step - loss: 2.7350 - accuracy: 0.2883 - val_loss: 3.1772 - val_accuracy: 0.2386\n",
      "Epoch 42/60\n",
      "71/71 [==============================] - 43s 603ms/step - loss: 2.7174 - accuracy: 0.2948 - val_loss: 3.2289 - val_accuracy: 0.2184\n",
      "Epoch 43/60\n",
      "71/71 [==============================] - 45s 635ms/step - loss: 2.6664 - accuracy: 0.3053 - val_loss: 3.2064 - val_accuracy: 0.2236\n",
      "Epoch 44/60\n",
      "71/71 [==============================] - 45s 637ms/step - loss: 2.6722 - accuracy: 0.3012 - val_loss: 3.3155 - val_accuracy: 0.2203\n",
      "Epoch 45/60\n",
      "71/71 [==============================] - 46s 642ms/step - loss: 2.6141 - accuracy: 0.3144 - val_loss: 3.4254 - val_accuracy: 0.1962\n",
      "Epoch 46/60\n",
      "71/71 [==============================] - 46s 640ms/step - loss: 2.5854 - accuracy: 0.3262 - val_loss: 3.1126 - val_accuracy: 0.2412\n",
      "Epoch 47/60\n",
      "71/71 [==============================] - 46s 645ms/step - loss: 2.5748 - accuracy: 0.3201 - val_loss: 3.1840 - val_accuracy: 0.2412\n",
      "Epoch 48/60\n",
      "71/71 [==============================] - 46s 639ms/step - loss: 2.5397 - accuracy: 0.3274 - val_loss: 2.9937 - val_accuracy: 0.2692\n",
      "Epoch 49/60\n",
      "71/71 [==============================] - 46s 645ms/step - loss: 2.4867 - accuracy: 0.3372 - val_loss: 3.1416 - val_accuracy: 0.2536\n",
      "Epoch 50/60\n",
      "71/71 [==============================] - 46s 643ms/step - loss: 2.4407 - accuracy: 0.3497 - val_loss: 3.1108 - val_accuracy: 0.2640\n",
      "Epoch 51/60\n",
      "71/71 [==============================] - 46s 642ms/step - loss: 2.4442 - accuracy: 0.3466 - val_loss: 3.2058 - val_accuracy: 0.2347\n",
      "Epoch 52/60\n",
      "71/71 [==============================] - 46s 645ms/step - loss: 2.4243 - accuracy: 0.3556 - val_loss: 3.0734 - val_accuracy: 0.2542\n",
      "Epoch 53/60\n",
      "71/71 [==============================] - 46s 646ms/step - loss: 2.3838 - accuracy: 0.3538 - val_loss: 3.0465 - val_accuracy: 0.2608\n",
      "Epoch 54/60\n",
      "71/71 [==============================] - 46s 642ms/step - loss: 2.3418 - accuracy: 0.3650 - val_loss: 2.9219 - val_accuracy: 0.2842\n",
      "Epoch 55/60\n",
      "71/71 [==============================] - 45s 627ms/step - loss: 2.3137 - accuracy: 0.3739 - val_loss: 3.1740 - val_accuracy: 0.2510\n",
      "Epoch 56/60\n",
      "71/71 [==============================] - 42s 590ms/step - loss: 2.2911 - accuracy: 0.3765 - val_loss: 3.0968 - val_accuracy: 0.2608\n",
      "Epoch 57/60\n",
      "71/71 [==============================] - 42s 593ms/step - loss: 2.2523 - accuracy: 0.3916 - val_loss: 2.9996 - val_accuracy: 0.2679\n",
      "Epoch 58/60\n",
      "71/71 [==============================] - 42s 590ms/step - loss: 2.2713 - accuracy: 0.3845 - val_loss: 3.2086 - val_accuracy: 0.2608\n",
      "Epoch 59/60\n",
      "71/71 [==============================] - 42s 596ms/step - loss: 2.2384 - accuracy: 0.3926 - val_loss: 3.1217 - val_accuracy: 0.2738\n",
      "Epoch 60/60\n",
      "71/71 [==============================] - 42s 590ms/step - loss: 2.1921 - accuracy: 0.3994 - val_loss: 3.0288 - val_accuracy: 0.2797\n"
     ]
    },
    {
     "data": {
      "text/plain": [
       "<keras.callbacks.History at 0x245e806f7f0>"
      ]
     },
     "execution_count": 7,
     "metadata": {},
     "output_type": "execute_result"
    }
   ],
   "source": [
    "batch_size = 100  # Choose a batch size that fits your memory constraints\n",
    "epochs = 60\n",
    "\n",
    "model.fit(datagen.flow(train_images, train_labels, batch_size=batch_size),\n",
    "          steps_per_epoch=len(train_images) // batch_size,\n",
    "          epochs=epochs,\n",
    "          validation_data=(val_images, val_labels))"
   ]
  },
  {
   "cell_type": "code",
   "execution_count": 10,
   "metadata": {},
   "outputs": [
    {
     "name": "stdout",
     "output_type": "stream",
     "text": [
      "48/48 - 1s - loss: 3.1338 - accuracy: 0.2472 - 706ms/epoch - 15ms/step\n",
      "\n",
      "Test accuracy: 0.24722765386104584\n"
     ]
    }
   ],
   "source": [
    "test_loss, test_acc = model.evaluate(test_images,  test_labels, verbose=2)\n",
    "print('\\nTest accuracy:', test_acc)"
   ]
  },
  {
   "cell_type": "code",
   "execution_count": 9,
   "metadata": {},
   "outputs": [],
   "source": [
    "#model.save('non_pre_trained_25.5.h5')"
   ]
  }
 ],
 "metadata": {
  "kernelspec": {
   "display_name": "Python 3",
   "language": "python",
   "name": "python3"
  },
  "language_info": {
   "codemirror_mode": {
    "name": "ipython",
    "version": 3
   },
   "file_extension": ".py",
   "mimetype": "text/x-python",
   "name": "python",
   "nbconvert_exporter": "python",
   "pygments_lexer": "ipython3",
   "version": "3.9.16"
  },
  "orig_nbformat": 4
 },
 "nbformat": 4,
 "nbformat_minor": 2
}
