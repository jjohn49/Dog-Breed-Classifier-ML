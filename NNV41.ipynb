{
 "cells": [
  {
   "cell_type": "code",
   "execution_count": 1,
   "metadata": {},
   "outputs": [
    {
     "name": "stderr",
     "output_type": "stream",
     "text": [
      "c:\\Users\\Danny\\miniconda3\\envs\\tf\\lib\\site-packages\\requests\\__init__.py:109: RequestsDependencyWarning: urllib3 (1.26.15) or chardet (None)/charset_normalizer (3.1.0) doesn't match a supported version!\n",
      "  warnings.warn(\n"
     ]
    },
    {
     "name": "stdout",
     "output_type": "stream",
     "text": [
      "                                     id                     breed\n",
      "0      000bec180eb18c7604dcecc8fe0dba07               boston_bull\n",
      "1      001513dfcb2ffafc82cccf4d8bbaba97                     dingo\n",
      "2      001cdf01b096e06d78e9e5112d419397                  pekinese\n",
      "3      00214f311d5d2247d5dfe4fe24b2303d                  bluetick\n",
      "4      0021f9ceb3235effd7fcde7f7538ed62          golden_retriever\n",
      "...                                 ...                       ...\n",
      "10217  ffd25009d635cfd16e793503ac5edef0                    borzoi\n",
      "10218  ffd3f636f7f379c51ba3648a9ff8254f            dandie_dinmont\n",
      "10219  ffe2ca6c940cddfee68fa3cc6c63213f                  airedale\n",
      "10220  ffe5f6d8e2bff356e9482a80a6e29aac        miniature_pinscher\n",
      "10221  fff43b07992508bc822f33d8ffd902ae  chesapeake_bay_retriever\n",
      "\n",
      "[10222 rows x 2 columns]\n"
     ]
    }
   ],
   "source": [
    "import pandas as pd\n",
    "import numpy as np\n",
    "import os \n",
    "from pathlib import Path\n",
    "from PIL import Image\n",
    "import matplotlib.pyplot as plt\n",
    "from tensorflow.keras.preprocessing.image import ImageDataGenerator\n",
    "\n",
    "#TEST_IMAGE_DIR = \"./dog-breed-identification/test/\"\n",
    "TRAIN_IMAGE_DIR = \"./dog-breed-identification/train/\"\n",
    "LABELS = './dog-breed-identification/labels.csv'\n",
    "\n",
    "data = pd.read_csv(LABELS)\n",
    "class_names = data['breed'].unique()\n",
    "\n",
    "print(data)"
   ]
  },
  {
   "cell_type": "code",
   "execution_count": 2,
   "metadata": {},
   "outputs": [],
   "source": [
    "#Data from the csv only contans the ids of the photos and not the photos itself\n",
    "#Iterate through the data and check whether the photo is in test or train\n",
    "#Then fetch it and store it in its proper variable\n",
    "import tensorflow as tf\n",
    "from os.path import join\n",
    "from tensorflow.keras.utils import load_img, img_to_array\n",
    "from tensorflow.keras.applications.imagenet_utils import preprocess_input\n",
    "from sklearn.model_selection import train_test_split\n",
    "from sklearn.preprocessing import LabelEncoder\n",
    "\n",
    "def load_and_preprocess_images(image_dir, image_ids, target_size=(224, 224)):\n",
    "    image_data = []\n",
    "    for img_id in image_ids:\n",
    "        img_path = join(image_dir, img_id + \".jpg\")\n",
    "        img = load_img(img_path, target_size=target_size)\n",
    "        img_array = img_to_array(img)\n",
    "        preprocessed_img = preprocess_input(img_array) #I dont flatten the image here\n",
    "        image_data.append(preprocessed_img)\n",
    "    return np.array(image_data)\n",
    "\n",
    "# Get image IDs for train and test\n",
    "train_image_ids = data['id'].values\n",
    "labels = data['breed'].values\n",
    "# Encode labels\n",
    "label_encoder = LabelEncoder()\n",
    "encoded_labels = label_encoder.fit_transform(labels)\n",
    "\n",
    "train_image_ids, unfinished_test_image_ids, train_labels, unfinished_test_labels = train_test_split(train_image_ids, encoded_labels, test_size=0.3, random_state=42, stratify=encoded_labels)\n",
    "\n",
    "test_image_ids, val_image_ids, test_labels, val_labels = train_test_split(unfinished_test_image_ids, unfinished_test_labels, test_size=0.5, random_state=42, stratify=unfinished_test_labels)\n",
    "\n",
    "train_images = load_and_preprocess_images(TRAIN_IMAGE_DIR, train_image_ids)\n",
    "test_images = load_and_preprocess_images(TRAIN_IMAGE_DIR, test_image_ids)\n",
    "val_images = load_and_preprocess_images(TRAIN_IMAGE_DIR, val_image_ids)"
   ]
  },
  {
   "cell_type": "code",
   "execution_count": 3,
   "metadata": {},
   "outputs": [],
   "source": [
    "train_images = train_images / 250.0\n",
    "test_images = test_images / 250.0\n",
    "val_images = val_images / 250.0"
   ]
  },
  {
   "cell_type": "code",
   "execution_count": 4,
   "metadata": {},
   "outputs": [],
   "source": [
    "from tensorflow.keras.applications import VGG16\n",
    "\n",
    "datagen = ImageDataGenerator(\n",
    "    rotation_range=20,\n",
    "    width_shift_range=0.2,\n",
    "    height_shift_range=0.2,\n",
    "    horizontal_flip=True,\n",
    "    zoom_range=0.2\n",
    ")\n",
    "\n",
    "datagen.fit(train_images)"
   ]
  },
  {
   "cell_type": "code",
   "execution_count": 5,
   "metadata": {},
   "outputs": [
    {
     "name": "stdout",
     "output_type": "stream",
     "text": [
      "Downloading data from https://storage.googleapis.com/tensorflow/keras-applications/vgg16/vgg16_weights_tf_dim_ordering_tf_kernels_notop.h5\n",
      "58889256/58889256 [==============================] - 1s 0us/step\n"
     ]
    }
   ],
   "source": [
    "from tensorflow.keras.applications import VGG16\n",
    "\n",
    "# Load the pre-trained VGG16 model\n",
    "base_model = VGG16(weights='imagenet', include_top=False, input_shape=(224, 224, 3))\n",
    "\n",
    "# Set the layers in the base model to non-trainable\n",
    "for layer in base_model.layers:\n",
    "    layer.trainable = False\n",
    "\n",
    "# Build the custom classification head\n",
    "x = base_model.output\n",
    "x = tf.keras.layers.GlobalAveragePooling2D()(x)\n",
    "x = tf.keras.layers.Dense(512, activation='relu')(x)\n",
    "x = tf.keras.layers.BatchNormalization()(x)\n",
    "x = tf.keras.layers.Dropout(0.5)(x)\n",
    "x = tf.keras.layers.Dense(256, activation='relu')(x)\n",
    "x = tf.keras.layers.BatchNormalization()(x)\n",
    "x = tf.keras.layers.Dropout(0.5)(x)\n",
    "predictions = tf.keras.layers.Dense(120, activation='softmax')(x)"
   ]
  },
  {
   "cell_type": "code",
   "execution_count": 6,
   "metadata": {},
   "outputs": [],
   "source": [
    "model = tf.keras.Model(inputs=base_model.input, outputs=predictions)\n"
   ]
  },
  {
   "cell_type": "code",
   "execution_count": 9,
   "metadata": {},
   "outputs": [],
   "source": [
    "model.compile(optimizer='adam',\n",
    "              loss='sparse_categorical_crossentropy',\n",
    "              metrics=['accuracy'])"
   ]
  },
  {
   "cell_type": "code",
   "execution_count": 10,
   "metadata": {},
   "outputs": [
    {
     "name": "stdout",
     "output_type": "stream",
     "text": [
      "Epoch 1/60\n",
      "71/71 [==============================] - 62s 746ms/step - loss: 5.4202 - accuracy: 0.0217 - val_loss: 4.6306 - val_accuracy: 0.0163\n",
      "Epoch 2/60\n",
      "71/71 [==============================] - 45s 629ms/step - loss: 4.5460 - accuracy: 0.0628 - val_loss: 4.3500 - val_accuracy: 0.0782\n",
      "Epoch 3/60\n",
      "71/71 [==============================] - 45s 637ms/step - loss: 4.0759 - accuracy: 0.1030 - val_loss: 3.9441 - val_accuracy: 0.1675\n",
      "Epoch 4/60\n",
      "71/71 [==============================] - 45s 630ms/step - loss: 3.7293 - accuracy: 0.1385 - val_loss: 3.5086 - val_accuracy: 0.2497\n",
      "Epoch 5/60\n",
      "71/71 [==============================] - 45s 630ms/step - loss: 3.4879 - accuracy: 0.1728 - val_loss: 3.0910 - val_accuracy: 0.2862\n",
      "Epoch 6/60\n",
      "71/71 [==============================] - 44s 623ms/step - loss: 3.3138 - accuracy: 0.1987 - val_loss: 2.9370 - val_accuracy: 0.2621\n",
      "Epoch 7/60\n",
      "71/71 [==============================] - 45s 626ms/step - loss: 3.1569 - accuracy: 0.2187 - val_loss: 2.7781 - val_accuracy: 0.3018\n",
      "Epoch 8/60\n",
      "71/71 [==============================] - 45s 627ms/step - loss: 3.0402 - accuracy: 0.2360 - val_loss: 2.7013 - val_accuracy: 0.3162\n",
      "Epoch 9/60\n",
      "71/71 [==============================] - 45s 635ms/step - loss: 2.9473 - accuracy: 0.2566 - val_loss: 2.6713 - val_accuracy: 0.3181\n",
      "Epoch 10/60\n",
      "71/71 [==============================] - 44s 625ms/step - loss: 2.8912 - accuracy: 0.2644 - val_loss: 2.5764 - val_accuracy: 0.3227\n",
      "Epoch 11/60\n",
      "71/71 [==============================] - 45s 629ms/step - loss: 2.8210 - accuracy: 0.2835 - val_loss: 2.5780 - val_accuracy: 0.3403\n",
      "Epoch 12/60\n",
      "71/71 [==============================] - 44s 624ms/step - loss: 2.7698 - accuracy: 0.2924 - val_loss: 2.4580 - val_accuracy: 0.3546\n",
      "Epoch 13/60\n",
      "71/71 [==============================] - 45s 627ms/step - loss: 2.7324 - accuracy: 0.2977 - val_loss: 2.4419 - val_accuracy: 0.3677\n",
      "Epoch 14/60\n",
      "71/71 [==============================] - 45s 626ms/step - loss: 2.7037 - accuracy: 0.3114 - val_loss: 2.4253 - val_accuracy: 0.3527\n",
      "Epoch 15/60\n",
      "71/71 [==============================] - 45s 634ms/step - loss: 2.6605 - accuracy: 0.3096 - val_loss: 2.4456 - val_accuracy: 0.3631\n",
      "Epoch 16/60\n",
      "71/71 [==============================] - 45s 626ms/step - loss: 2.6183 - accuracy: 0.3257 - val_loss: 2.3946 - val_accuracy: 0.3774\n",
      "Epoch 17/60\n",
      "71/71 [==============================] - 45s 633ms/step - loss: 2.6056 - accuracy: 0.3232 - val_loss: 2.4170 - val_accuracy: 0.3638\n",
      "Epoch 18/60\n",
      "71/71 [==============================] - 45s 627ms/step - loss: 2.5969 - accuracy: 0.3235 - val_loss: 2.4170 - val_accuracy: 0.3690\n",
      "Epoch 19/60\n",
      "71/71 [==============================] - 45s 633ms/step - loss: 2.5722 - accuracy: 0.3274 - val_loss: 2.3582 - val_accuracy: 0.3781\n",
      "Epoch 20/60\n",
      "71/71 [==============================] - 45s 639ms/step - loss: 2.5425 - accuracy: 0.3405 - val_loss: 2.3697 - val_accuracy: 0.3814\n",
      "Epoch 21/60\n",
      "71/71 [==============================] - 45s 626ms/step - loss: 2.5281 - accuracy: 0.3402 - val_loss: 2.3273 - val_accuracy: 0.3957\n",
      "Epoch 22/60\n",
      "71/71 [==============================] - 44s 625ms/step - loss: 2.5335 - accuracy: 0.3376 - val_loss: 2.3622 - val_accuracy: 0.3853\n",
      "Epoch 23/60\n",
      "71/71 [==============================] - 45s 626ms/step - loss: 2.4729 - accuracy: 0.3595 - val_loss: 2.3874 - val_accuracy: 0.3840\n",
      "Epoch 24/60\n",
      "71/71 [==============================] - 44s 623ms/step - loss: 2.4661 - accuracy: 0.3517 - val_loss: 2.3119 - val_accuracy: 0.3879\n",
      "Epoch 25/60\n",
      "71/71 [==============================] - 45s 626ms/step - loss: 2.4625 - accuracy: 0.3563 - val_loss: 2.3580 - val_accuracy: 0.3820\n",
      "Epoch 26/60\n",
      "71/71 [==============================] - 44s 624ms/step - loss: 2.4606 - accuracy: 0.3534 - val_loss: 2.3512 - val_accuracy: 0.3820\n",
      "Epoch 27/60\n",
      "71/71 [==============================] - 45s 628ms/step - loss: 2.4456 - accuracy: 0.3606 - val_loss: 2.3167 - val_accuracy: 0.3950\n",
      "Epoch 28/60\n",
      "71/71 [==============================] - 44s 624ms/step - loss: 2.4392 - accuracy: 0.3630 - val_loss: 2.3009 - val_accuracy: 0.3963\n",
      "Epoch 29/60\n",
      "71/71 [==============================] - 45s 627ms/step - loss: 2.4123 - accuracy: 0.3663 - val_loss: 2.3082 - val_accuracy: 0.3892\n",
      "Epoch 30/60\n",
      "71/71 [==============================] - 44s 623ms/step - loss: 2.4193 - accuracy: 0.3614 - val_loss: 2.3131 - val_accuracy: 0.3931\n",
      "Epoch 31/60\n",
      "71/71 [==============================] - 44s 625ms/step - loss: 2.3980 - accuracy: 0.3724 - val_loss: 2.3144 - val_accuracy: 0.3977\n",
      "Epoch 32/60\n",
      "71/71 [==============================] - 44s 629ms/step - loss: 2.4093 - accuracy: 0.3735 - val_loss: 2.3087 - val_accuracy: 0.3977\n",
      "Epoch 33/60\n",
      "71/71 [==============================] - 45s 625ms/step - loss: 2.3747 - accuracy: 0.3729 - val_loss: 2.2967 - val_accuracy: 0.4009\n",
      "Epoch 34/60\n",
      "71/71 [==============================] - 44s 622ms/step - loss: 2.3858 - accuracy: 0.3769 - val_loss: 2.3068 - val_accuracy: 0.3853\n",
      "Epoch 35/60\n",
      "71/71 [==============================] - 45s 626ms/step - loss: 2.3398 - accuracy: 0.3863 - val_loss: 2.3041 - val_accuracy: 0.3990\n",
      "Epoch 36/60\n",
      "71/71 [==============================] - 45s 635ms/step - loss: 2.3646 - accuracy: 0.3861 - val_loss: 2.3319 - val_accuracy: 0.3996\n",
      "Epoch 37/60\n",
      "71/71 [==============================] - 46s 652ms/step - loss: 2.3352 - accuracy: 0.3773 - val_loss: 2.3232 - val_accuracy: 0.3801\n",
      "Epoch 38/60\n",
      "71/71 [==============================] - 45s 630ms/step - loss: 2.3409 - accuracy: 0.3817 - val_loss: 2.4349 - val_accuracy: 0.3722\n",
      "Epoch 39/60\n",
      "71/71 [==============================] - 45s 629ms/step - loss: 2.3172 - accuracy: 0.3878 - val_loss: 2.3832 - val_accuracy: 0.3735\n",
      "Epoch 40/60\n",
      "71/71 [==============================] - 46s 645ms/step - loss: 2.3246 - accuracy: 0.3867 - val_loss: 2.4011 - val_accuracy: 0.3866\n",
      "Epoch 41/60\n",
      "71/71 [==============================] - 47s 659ms/step - loss: 2.3277 - accuracy: 0.3845 - val_loss: 2.3277 - val_accuracy: 0.3859\n",
      "Epoch 42/60\n",
      "71/71 [==============================] - 47s 653ms/step - loss: 2.2836 - accuracy: 0.3905 - val_loss: 2.3496 - val_accuracy: 0.3963\n",
      "Epoch 43/60\n",
      "71/71 [==============================] - 45s 638ms/step - loss: 2.2947 - accuracy: 0.3931 - val_loss: 2.3259 - val_accuracy: 0.3846\n",
      "Epoch 44/60\n",
      "71/71 [==============================] - 45s 632ms/step - loss: 2.3138 - accuracy: 0.3850 - val_loss: 2.3781 - val_accuracy: 0.4009\n",
      "Epoch 45/60\n",
      "71/71 [==============================] - 46s 647ms/step - loss: 2.3275 - accuracy: 0.3803 - val_loss: 2.3040 - val_accuracy: 0.4016\n",
      "Epoch 46/60\n",
      "71/71 [==============================] - 46s 641ms/step - loss: 2.3001 - accuracy: 0.3916 - val_loss: 2.2400 - val_accuracy: 0.4166\n",
      "Epoch 47/60\n",
      "71/71 [==============================] - 46s 647ms/step - loss: 2.2657 - accuracy: 0.3933 - val_loss: 2.2728 - val_accuracy: 0.4120\n",
      "Epoch 48/60\n",
      "71/71 [==============================] - 45s 628ms/step - loss: 2.3014 - accuracy: 0.3891 - val_loss: 2.4783 - val_accuracy: 0.3768\n",
      "Epoch 49/60\n",
      "71/71 [==============================] - 45s 633ms/step - loss: 2.2554 - accuracy: 0.3983 - val_loss: 2.3278 - val_accuracy: 0.4192\n",
      "Epoch 50/60\n",
      "71/71 [==============================] - 45s 627ms/step - loss: 2.2825 - accuracy: 0.3914 - val_loss: 2.3749 - val_accuracy: 0.3944\n",
      "Epoch 51/60\n",
      "71/71 [==============================] - 45s 635ms/step - loss: 2.2720 - accuracy: 0.3983 - val_loss: 2.2364 - val_accuracy: 0.4218\n",
      "Epoch 52/60\n",
      "71/71 [==============================] - 45s 626ms/step - loss: 2.2569 - accuracy: 0.3959 - val_loss: 2.2338 - val_accuracy: 0.4172\n",
      "Epoch 53/60\n",
      "71/71 [==============================] - 45s 634ms/step - loss: 2.2612 - accuracy: 0.3989 - val_loss: 2.2755 - val_accuracy: 0.4061\n",
      "Epoch 54/60\n",
      "71/71 [==============================] - 45s 626ms/step - loss: 2.2622 - accuracy: 0.3943 - val_loss: 2.2734 - val_accuracy: 0.4029\n",
      "Epoch 55/60\n",
      "71/71 [==============================] - 45s 633ms/step - loss: 2.2468 - accuracy: 0.4065 - val_loss: 2.3023 - val_accuracy: 0.3970\n",
      "Epoch 56/60\n",
      "71/71 [==============================] - 45s 626ms/step - loss: 2.2483 - accuracy: 0.3990 - val_loss: 2.2610 - val_accuracy: 0.4094\n",
      "Epoch 57/60\n",
      "71/71 [==============================] - 45s 632ms/step - loss: 2.2493 - accuracy: 0.4033 - val_loss: 2.2640 - val_accuracy: 0.4068\n",
      "Epoch 58/60\n",
      "71/71 [==============================] - 45s 626ms/step - loss: 2.2299 - accuracy: 0.4016 - val_loss: 2.4485 - val_accuracy: 0.3924\n",
      "Epoch 59/60\n",
      "71/71 [==============================] - 45s 632ms/step - loss: 2.2279 - accuracy: 0.4018 - val_loss: 2.2945 - val_accuracy: 0.3977\n",
      "Epoch 60/60\n",
      "71/71 [==============================] - 45s 627ms/step - loss: 2.2431 - accuracy: 0.4071 - val_loss: 2.3587 - val_accuracy: 0.3944\n"
     ]
    }
   ],
   "source": [
    "batch_size = 100  # Choose a batch size that fits your memory constraints\n",
    "epochs = 60\n",
    "\n",
    "history = model.fit(datagen.flow(train_images, train_labels, batch_size=batch_size),\n",
    "                    steps_per_epoch=len(train_images) // batch_size,\n",
    "                    epochs=epochs,\n",
    "                    validation_data=(val_images, val_labels))"
   ]
  },
  {
   "cell_type": "code",
   "execution_count": 11,
   "metadata": {},
   "outputs": [
    {
     "name": "stdout",
     "output_type": "stream",
     "text": [
      "48/48 - 5s - loss: 2.3699 - accuracy: 0.4103 - 5s/epoch - 103ms/step\n",
      "\n",
      "Test accuracy: 0.4103066027164459\n"
     ]
    }
   ],
   "source": [
    "test_loss, test_acc = model.evaluate(test_images, test_labels, verbose=2)\n",
    "print('\\nTest accuracy:', test_acc)"
   ]
  }
 ],
 "metadata": {
  "kernelspec": {
   "display_name": "Python 3",
   "language": "python",
   "name": "python3"
  },
  "language_info": {
   "codemirror_mode": {
    "name": "ipython",
    "version": 3
   },
   "file_extension": ".py",
   "mimetype": "text/x-python",
   "name": "python",
   "nbconvert_exporter": "python",
   "pygments_lexer": "ipython3",
   "version": "3.9.16"
  },
  "orig_nbformat": 4
 },
 "nbformat": 4,
 "nbformat_minor": 2
}
