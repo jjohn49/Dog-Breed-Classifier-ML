{
 "cells": [
  {
   "cell_type": "code",
   "execution_count": 1,
   "metadata": {},
   "outputs": [],
   "source": [
    "import pandas as pd\n",
    "import numpy as np\n",
    "import os \n",
    "from pathlib import Path\n",
    "from PIL import Image\n",
    "import matplotlib.pyplot as plt\n",
    "from tensorflow.keras.preprocessing.image import ImageDataGenerator\n",
    "\n",
    "#TEST_IMAGE_DIR = \"./dog-breed-identification/test/\"\n",
    "TRAIN_IMAGE_DIR = \"./dog-breed-identification/train/\"\n",
    "LABELS = './dog-breed-identification/labels.csv'\n",
    "\n",
    "data = pd.read_csv(LABELS)"
   ]
  },
  {
   "cell_type": "code",
   "execution_count": 2,
   "metadata": {},
   "outputs": [],
   "source": [
    "#Data from the csv only contans the ids of the photos and not the photos itself\n",
    "#Iterate through the data and check whether the photo is in test or train\n",
    "#Then fetch it and store it in its proper variable\n",
    "import tensorflow as tf\n",
    "from os.path import join\n",
    "from tensorflow.keras.utils import load_img, img_to_array\n",
    "from tensorflow.keras.applications.imagenet_utils import preprocess_input\n",
    "from sklearn.model_selection import train_test_split\n",
    "from sklearn.preprocessing import LabelEncoder\n",
    "\n",
    "def load_and_preprocess_images(image_dir, image_ids, target_size=(224, 224)):\n",
    "    image_data = []\n",
    "    for img_id in image_ids:\n",
    "        img_path = join(image_dir, img_id + \".jpg\")\n",
    "        img = load_img(img_path, target_size=target_size)\n",
    "        img_array = img_to_array(img)\n",
    "        preprocessed_img = preprocess_input(img_array) #I dont flatten the image here\n",
    "        image_data.append(preprocessed_img)\n",
    "    return np.array(image_data)\n",
    "\n",
    "# Get image IDs for train and test\n",
    "train_image_ids = data['id'].values\n",
    "labels = data['breed'].values\n",
    "# Encode labels\n",
    "label_encoder = LabelEncoder()\n",
    "encoded_labels = label_encoder.fit_transform(labels)\n",
    "\n",
    "train_image_ids, unfinished_test_image_ids, train_labels, unfinished_test_labels = train_test_split(train_image_ids, encoded_labels, test_size=0.3, random_state=42, stratify=encoded_labels)\n",
    "\n",
    "test_image_ids, val_image_ids, test_labels, val_labels = train_test_split(unfinished_test_image_ids, unfinished_test_labels, test_size=0.5, random_state=42, stratify=unfinished_test_labels)\n",
    "\n",
    "train_images = load_and_preprocess_images(TRAIN_IMAGE_DIR, train_image_ids)\n",
    "test_images = load_and_preprocess_images(TRAIN_IMAGE_DIR, test_image_ids)\n",
    "val_images = load_and_preprocess_images(TRAIN_IMAGE_DIR, val_image_ids)"
   ]
  },
  {
   "cell_type": "code",
   "execution_count": 3,
   "metadata": {},
   "outputs": [],
   "source": [
    "train_images = train_images / 250.0\n",
    "test_images = test_images / 250.0\n",
    "val_images = val_images / 250.0"
   ]
  },
  {
   "cell_type": "code",
   "execution_count": 4,
   "metadata": {},
   "outputs": [
    {
     "name": "stderr",
     "output_type": "stream",
     "text": [
      "2023-04-26 14:49:50.628339: W tensorflow/core/platform/profile_utils/cpu_utils.cc:128] Failed to get CPU frequency: 0 Hz\n"
     ]
    },
    {
     "name": "stdout",
     "output_type": "stream",
     "text": [
      "48/48 [==============================] - 119s 2s/step\n"
     ]
    }
   ],
   "source": [
    "from tensorflow.keras.models import load_model\n",
    "\n",
    "# Load the saved model\n",
    "loaded_model = load_model('pre_trained_38.h5')\n",
    "\n",
    "# Use the loaded model to make predictions\n",
    "predictions = loaded_model.predict(test_images)"
   ]
  },
  {
   "cell_type": "code",
   "execution_count": 5,
   "metadata": {},
   "outputs": [
    {
     "name": "stdout",
     "output_type": "stream",
     "text": [
      "48/48 - 117s - loss: 2.4605 - accuracy: 0.3810 - 117s/epoch - 2s/step\n",
      "\n",
      "Test accuracy: 0.380952388048172\n"
     ]
    }
   ],
   "source": [
    "test_loss, test_acc = loaded_model.evaluate(test_images,  test_labels, verbose=2)\n",
    "print('\\nTest accuracy:', test_acc)"
   ]
  },
  {
   "cell_type": "code",
   "execution_count": 6,
   "metadata": {},
   "outputs": [
    {
     "name": "stdout",
     "output_type": "stream",
     "text": [
      "(1533, 224, 224, 3)\n",
      "1/1 [==============================] - 0s 108ms/step\n",
      "Predicted breed: leonberg\n"
     ]
    }
   ],
   "source": [
    "# shape of images\n",
    "print(np.shape(test_images))\n",
    "\n",
    "# reshape single image for prediction\n",
    "test_img = np.reshape(test_images[110], (1, 224, 224, 3))\n",
    "\n",
    "# After reshaping individual image can get label of single image\n",
    "predict = loaded_model.predict(test_img)\n",
    "predicted_class_index = np.argmax(predict)\n",
    "predicted_label = label_encoder.inverse_transform([predicted_class_index])\n",
    "\n",
    "print('Predicted breed:', predicted_label[0])"
   ]
  },
  {
   "cell_type": "code",
   "execution_count": 16,
   "metadata": {},
   "outputs": [
    {
     "name": "stdout",
     "output_type": "stream",
     "text": [
      "[94 76 13 ...  2 75 44]\n"
     ]
    }
   ],
   "source": [
    "all_predicted_class_index =  [np.argmax(predict) for predict in predictions]\n",
    "#print(all_predicted_class_index)\n",
    "all_predicted_label = label_encoder.inverse_transform(all_predicted_class_index)\n"
   ]
  },
  {
   "cell_type": "code",
   "execution_count": 27,
   "metadata": {},
   "outputs": [
    {
     "name": "stdout",
     "output_type": "stream",
     "text": [
      "precision_score from out model: 0.38095238095238093\n",
      "recall_score from out model: 0.38095238095238093\n",
      "f1_score from out model: 0.38095238095238093\n"
     ]
    }
   ],
   "source": [
    "from sklearn.metrics import precision_score, recall_score, f1_score\n",
    "\n",
    "print('precision_score from out model: %s' % (precision_score(test_labels, all_predicted_class_index, average=\"micro\")))\n",
    "print('recall_score from out model: %s' % (recall_score(test_labels, all_predicted_class_index, average=\"micro\")))\n",
    "print('f1_score from out model: %s' % (f1_score(test_labels, all_predicted_class_index, average=\"micro\")))"
   ]
  }
 ],
 "metadata": {
  "kernelspec": {
   "display_name": "Python 3",
   "language": "python",
   "name": "python3"
  },
  "language_info": {
   "codemirror_mode": {
    "name": "ipython",
    "version": 3
   },
   "file_extension": ".py",
   "mimetype": "text/x-python",
   "name": "python",
   "nbconvert_exporter": "python",
   "pygments_lexer": "ipython3",
   "version": "3.9.16"
  },
  "orig_nbformat": 4
 },
 "nbformat": 4,
 "nbformat_minor": 2
}
