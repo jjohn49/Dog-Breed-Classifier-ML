{
 "cells": [
  {
   "cell_type": "code",
   "execution_count": 7,
   "metadata": {},
   "outputs": [],
   "source": [
    "import numpy as np\n",
    "from PIL import Image\n",
    "from tensorflow.keras.applications.imagenet_utils import preprocess_input\n",
    "from tensorflow.keras.preprocessing.image import img_to_array\n",
    "from PIL import Image\n",
    "import pandas as pd\n",
    "from sklearn.preprocessing import LabelEncoder\n",
    "\n",
    "LABELS = '../dog-breed-identification/labels.csv'\n",
    "\n",
    "\n",
    "data = pd.read_csv(LABELS)\n",
    "labels = data['breed'].values\n",
    "\n",
    "\n",
    "label_encoder = LabelEncoder()\n",
    "encoded_labels = label_encoder.fit_transform(labels)"
   ]
  },
  {
   "cell_type": "code",
   "execution_count": 8,
   "metadata": {},
   "outputs": [],
   "source": [
    "from tensorflow.keras.models import load_model\n",
    "\n",
    "# Load the saved model\n",
    "loaded_model = load_model('../model-weights/55Model.hdf5')"
   ]
  },
  {
   "cell_type": "code",
   "execution_count": 9,
   "metadata": {},
   "outputs": [],
   "source": [
    "def get_top_n_predictions(image, top_n=1):\n",
    "    \n",
    "    # Resize the image to the expected input size for the model\n",
    "    resized_image = image.resize((224, 224))\n",
    "    \n",
    "    # Convert the resized image to a numpy array and preprocess it\n",
    "    img_array = img_to_array(resized_image)\n",
    "    preprocessed_img = preprocess_input(img_array)\n",
    "    \n",
    "    # Reshape the input image to match the model's expected input shape\n",
    "    preprocessed_img = np.expand_dims(preprocessed_img, axis=0)\n",
    "    preprocessed_img = preprocessed_img / 250\n",
    "    \n",
    "    # Make predictions\n",
    "    predictions = loaded_model.predict(preprocessed_img)\n",
    "    \n",
    "    # Get the indices of the top n predictions\n",
    "    top_n_indices = np.argsort(predictions[0])[-top_n:][::-1]\n",
    "\n",
    "    # Get the labels and probabilities for the top n predictions\n",
    "    top_n_labels = label_encoder.inverse_transform(top_n_indices)\n",
    "    top_n_probabilities = predictions[0][top_n_indices]\n",
    "    \n",
    "    return list(zip(top_n_labels, top_n_probabilities))"
   ]
  },
  {
   "cell_type": "code",
   "execution_count": 10,
   "metadata": {},
   "outputs": [
    {
     "name": "stdout",
     "output_type": "stream",
     "text": [
      "1/1 [==============================] - 0s 107ms/step\n",
      "Top 10 predictions:\n",
      "bluetick: 15.60%\n",
      "staffordshire_bullterrier: 14.86%\n",
      "black-and-tan_coonhound: 10.10%\n",
      "great_dane: 8.83%\n",
      "kelpie: 8.62%\n",
      "flat-coated_retriever: 6.97%\n",
      "mexican_hairless: 5.23%\n",
      "groenendael: 4.11%\n",
      "schipperke: 3.40%\n",
      "boston_bull: 2.64%\n"
     ]
    }
   ],
   "source": [
    "\n",
    "image_path = \"../image.jpg\"\n",
    "image = Image.open(image_path)\n",
    "\n",
    "top_n = 10\n",
    "predictions = get_top_n_predictions(image, top_n)\n",
    "\n",
    "print(f\"Top {top_n} predictions:\")\n",
    "for label, probability in predictions:\n",
    "    print(f\"{label}: {probability*100:.2f}%\")\n"
   ]
  }
 ],
 "metadata": {
  "kernelspec": {
   "display_name": "Python 3",
   "language": "python",
   "name": "python3"
  },
  "language_info": {
   "codemirror_mode": {
    "name": "ipython",
    "version": 3
   },
   "file_extension": ".py",
   "mimetype": "text/x-python",
   "name": "python",
   "nbconvert_exporter": "python",
   "pygments_lexer": "ipython3",
   "version": "3.9.16"
  },
  "orig_nbformat": 4
 },
 "nbformat": 4,
 "nbformat_minor": 2
}
