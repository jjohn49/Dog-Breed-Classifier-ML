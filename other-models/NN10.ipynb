{
 "cells": [
  {
   "cell_type": "code",
   "execution_count": 1,
   "metadata": {},
   "outputs": [
    {
     "name": "stderr",
     "output_type": "stream",
     "text": [
      "c:\\Users\\Danny\\miniconda3\\envs\\tf\\lib\\site-packages\\requests\\__init__.py:109: RequestsDependencyWarning: urllib3 (1.26.15) or chardet (None)/charset_normalizer (3.1.0) doesn't match a supported version!\n",
      "  warnings.warn(\n"
     ]
    },
    {
     "name": "stdout",
     "output_type": "stream",
     "text": [
      "                                     id                     breed\n",
      "0      000bec180eb18c7604dcecc8fe0dba07               boston_bull\n",
      "1      001513dfcb2ffafc82cccf4d8bbaba97                     dingo\n",
      "2      001cdf01b096e06d78e9e5112d419397                  pekinese\n",
      "3      00214f311d5d2247d5dfe4fe24b2303d                  bluetick\n",
      "4      0021f9ceb3235effd7fcde7f7538ed62          golden_retriever\n",
      "...                                 ...                       ...\n",
      "10217  ffd25009d635cfd16e793503ac5edef0                    borzoi\n",
      "10218  ffd3f636f7f379c51ba3648a9ff8254f            dandie_dinmont\n",
      "10219  ffe2ca6c940cddfee68fa3cc6c63213f                  airedale\n",
      "10220  ffe5f6d8e2bff356e9482a80a6e29aac        miniature_pinscher\n",
      "10221  fff43b07992508bc822f33d8ffd902ae  chesapeake_bay_retriever\n",
      "\n",
      "[10222 rows x 2 columns]\n"
     ]
    }
   ],
   "source": [
    "import pandas as pd\n",
    "import numpy as np\n",
    "import os \n",
    "from pathlib import Path\n",
    "from PIL import Image\n",
    "import matplotlib.pyplot as plt\n",
    "from tensorflow.keras.preprocessing.image import ImageDataGenerator\n",
    "\n",
    "#TEST_IMAGE_DIR = \"./dog-breed-identification/test/\"\n",
    "TRAIN_IMAGE_DIR = \"./dog-breed-identification/train/\"\n",
    "LABELS = './dog-breed-identification/labels.csv'\n",
    "\n",
    "data = pd.read_csv(LABELS)\n",
    "class_names = data['breed'].unique()\n",
    "\n",
    "print(data)"
   ]
  },
  {
   "cell_type": "code",
   "execution_count": 2,
   "metadata": {},
   "outputs": [],
   "source": [
    "#Data from the csv only contans the ids of the photos and not the photos itself\n",
    "#Iterate through the data and check whether the photo is in test or train\n",
    "#Then fetch it and store it in its proper variable\n",
    "import tensorflow as tf\n",
    "from os.path import join\n",
    "from tensorflow.keras.utils import load_img, img_to_array\n",
    "from tensorflow.keras.applications.imagenet_utils import preprocess_input\n",
    "from sklearn.model_selection import train_test_split\n",
    "from sklearn.preprocessing import LabelEncoder\n",
    "\n",
    "def load_and_preprocess_images(image_dir, image_ids, target_size=(90, 90)):\n",
    "    image_data = []\n",
    "    for img_id in image_ids:\n",
    "        img_path = join(image_dir, img_id + \".jpg\")\n",
    "        img = load_img(img_path, target_size=target_size)\n",
    "        img_array = img_to_array(img)\n",
    "        preprocessed_img = preprocess_input(img_array) #I dont flatten the image here\n",
    "        image_data.append(preprocessed_img)\n",
    "    return np.array(image_data)\n",
    "\n",
    "# Get image IDs for train and test\n",
    "train_image_ids = data['id'].values\n",
    "labels = data['breed'].values\n",
    "# Encode labels\n",
    "label_encoder = LabelEncoder()\n",
    "encoded_labels = label_encoder.fit_transform(labels)\n",
    "\n",
    "train_image_ids, test_image_ids, train_labels, test_labels = train_test_split(train_image_ids, encoded_labels, test_size=0.2, random_state=42, stratify=encoded_labels)\n",
    "\n",
    "train_images = load_and_preprocess_images(TRAIN_IMAGE_DIR, train_image_ids)\n",
    "test_images = load_and_preprocess_images(TRAIN_IMAGE_DIR, test_image_ids)"
   ]
  },
  {
   "cell_type": "code",
   "execution_count": 3,
   "metadata": {},
   "outputs": [],
   "source": [
    "train_images = train_images / 250.0\n",
    "test_images = test_images / 250.0"
   ]
  },
  {
   "cell_type": "code",
   "execution_count": 4,
   "metadata": {},
   "outputs": [],
   "source": [
    "datagen = ImageDataGenerator(\n",
    "    rotation_range=20,\n",
    "    width_shift_range=0.2,\n",
    "    height_shift_range=0.2,\n",
    "    horizontal_flip=True,\n",
    "    zoom_range=0.2\n",
    ")\n",
    "\n",
    "datagen.fit(train_images)"
   ]
  },
  {
   "cell_type": "code",
   "execution_count": 5,
   "metadata": {},
   "outputs": [],
   "source": [
    "from tensorflow import keras\n",
    "\n",
    "model = keras.Sequential([\n",
    "    tf.keras.layers.Conv2D(32,(3, 3), activation = 'relu', input_shape = (90, 90, 3)),\n",
    "    tf.keras.layers.MaxPooling2D (2,2), \n",
    "    tf.keras.layers.Conv2D(32, (3, 3), activation ='relu'),\n",
    "    tf.keras.layers.MaxPooling2D(2,2),\n",
    "    tf.keras.layers.Conv2D(32, (3, 3), activation ='relu'),\n",
    "    tf.keras.layers.MaxPooling2D(2,2),\n",
    "    tf.keras.layers.Flatten(), \n",
    "    tf.keras.layers.Dense(300, activation=\"relu\"),\n",
    "    tf.keras.layers.Dense(300, activation=\"relu\"),\n",
    "    tf.keras.layers.Dense(120, activation=\"softmax\"),\n",
    "])"
   ]
  },
  {
   "cell_type": "code",
   "execution_count": 6,
   "metadata": {},
   "outputs": [],
   "source": [
    "model.compile(optimizer='adam',\n",
    "                loss='sparse_categorical_crossentropy',\n",
    "                metrics=['accuracy'])"
   ]
  },
  {
   "cell_type": "code",
   "execution_count": 7,
   "metadata": {},
   "outputs": [
    {
     "name": "stdout",
     "output_type": "stream",
     "text": [
      "Epoch 1/20\n",
      "127/127 [==============================] - 12s 77ms/step - loss: 4.7733 - accuracy: 0.0120 - val_loss: 4.7274 - val_accuracy: 0.0225\n",
      "Epoch 2/20\n",
      "127/127 [==============================] - 10s 76ms/step - loss: 4.6199 - accuracy: 0.0224 - val_loss: 4.4866 - val_accuracy: 0.0337\n",
      "Epoch 3/20\n",
      "127/127 [==============================] - 10s 77ms/step - loss: 4.4877 - accuracy: 0.0319 - val_loss: 4.3666 - val_accuracy: 0.0513\n",
      "Epoch 4/20\n",
      "127/127 [==============================] - 10s 75ms/step - loss: 4.3970 - accuracy: 0.0433 - val_loss: 4.2761 - val_accuracy: 0.0528\n",
      "Epoch 5/20\n",
      "127/127 [==============================] - 10s 77ms/step - loss: 4.3077 - accuracy: 0.0515 - val_loss: 4.2287 - val_accuracy: 0.0577\n",
      "Epoch 6/20\n",
      "127/127 [==============================] - 10s 81ms/step - loss: 4.2517 - accuracy: 0.0555 - val_loss: 4.1927 - val_accuracy: 0.0655\n",
      "Epoch 7/20\n",
      "127/127 [==============================] - 10s 76ms/step - loss: 4.1687 - accuracy: 0.0648 - val_loss: 4.1349 - val_accuracy: 0.0704\n",
      "Epoch 8/20\n",
      "127/127 [==============================] - 10s 75ms/step - loss: 4.1112 - accuracy: 0.0742 - val_loss: 4.1247 - val_accuracy: 0.0733\n",
      "Epoch 9/20\n",
      "127/127 [==============================] - 10s 76ms/step - loss: 4.0519 - accuracy: 0.0786 - val_loss: 4.0717 - val_accuracy: 0.0822\n",
      "Epoch 10/20\n",
      "127/127 [==============================] - 10s 75ms/step - loss: 3.9946 - accuracy: 0.0843 - val_loss: 4.1082 - val_accuracy: 0.0782\n",
      "Epoch 11/20\n",
      "127/127 [==============================] - 10s 76ms/step - loss: 3.9453 - accuracy: 0.0899 - val_loss: 4.1131 - val_accuracy: 0.0778\n",
      "Epoch 12/20\n",
      "127/127 [==============================] - 10s 75ms/step - loss: 3.9025 - accuracy: 0.0995 - val_loss: 4.0404 - val_accuracy: 0.0748\n",
      "Epoch 13/20\n",
      "127/127 [==============================] - 10s 76ms/step - loss: 3.8293 - accuracy: 0.1075 - val_loss: 4.0460 - val_accuracy: 0.0782\n",
      "Epoch 14/20\n",
      "127/127 [==============================] - 10s 75ms/step - loss: 3.7849 - accuracy: 0.1136 - val_loss: 4.0244 - val_accuracy: 0.0851\n",
      "Epoch 15/20\n",
      "127/127 [==============================] - 10s 77ms/step - loss: 3.7536 - accuracy: 0.1132 - val_loss: 4.0146 - val_accuracy: 0.0973\n",
      "Epoch 16/20\n",
      "127/127 [==============================] - 10s 76ms/step - loss: 3.7113 - accuracy: 0.1196 - val_loss: 4.0172 - val_accuracy: 0.0958\n",
      "Epoch 17/20\n",
      "127/127 [==============================] - 10s 77ms/step - loss: 3.6432 - accuracy: 0.1271 - val_loss: 4.0309 - val_accuracy: 0.0875\n",
      "Epoch 18/20\n",
      "127/127 [==============================] - 10s 75ms/step - loss: 3.6131 - accuracy: 0.1417 - val_loss: 4.0666 - val_accuracy: 0.0949\n",
      "Epoch 19/20\n",
      "127/127 [==============================] - 10s 77ms/step - loss: 3.5928 - accuracy: 0.1410 - val_loss: 3.9315 - val_accuracy: 0.1032\n",
      "Epoch 20/20\n",
      "127/127 [==============================] - 10s 76ms/step - loss: 3.5372 - accuracy: 0.1507 - val_loss: 3.9971 - val_accuracy: 0.0998\n"
     ]
    },
    {
     "data": {
      "text/plain": [
       "<keras.callbacks.History at 0x2845a9c4460>"
      ]
     },
     "execution_count": 7,
     "metadata": {},
     "output_type": "execute_result"
    }
   ],
   "source": [
    "batch_size = 64  # Choose a batch size that fits your memory constraints\n",
    "epochs = 20\n",
    "\n",
    "model.fit(datagen.flow(train_images, train_labels, batch_size=batch_size),\n",
    "          steps_per_epoch=len(train_images) // batch_size,\n",
    "          epochs=epochs,\n",
    "          validation_data=(test_images, test_labels))"
   ]
  },
  {
   "cell_type": "code",
   "execution_count": 8,
   "metadata": {},
   "outputs": [
    {
     "name": "stdout",
     "output_type": "stream",
     "text": [
      "64/64 - 0s - loss: 3.9971 - accuracy: 0.0998 - 202ms/epoch - 3ms/step\n",
      "\n",
      "Test accuracy: 0.09975550323724747\n"
     ]
    }
   ],
   "source": [
    "test_loss, test_acc = model.evaluate(test_images,  test_labels, verbose=2)\n",
    "print('\\nTest accuracy:', test_acc)"
   ]
  }
 ],
 "metadata": {
  "kernelspec": {
   "display_name": "Python 3",
   "language": "python",
   "name": "python3"
  },
  "language_info": {
   "codemirror_mode": {
    "name": "ipython",
    "version": 3
   },
   "file_extension": ".py",
   "mimetype": "text/x-python",
   "name": "python",
   "nbconvert_exporter": "python",
   "pygments_lexer": "ipython3",
   "version": "3.9.16"
  },
  "orig_nbformat": 4
 },
 "nbformat": 4,
 "nbformat_minor": 2
}
