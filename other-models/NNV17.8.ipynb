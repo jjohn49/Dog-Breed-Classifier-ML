{
 "cells": [
  {
   "cell_type": "code",
   "execution_count": 1,
   "metadata": {},
   "outputs": [
    {
     "name": "stderr",
     "output_type": "stream",
     "text": [
      "c:\\Users\\Danny\\miniconda3\\envs\\tf\\lib\\site-packages\\requests\\__init__.py:109: RequestsDependencyWarning: urllib3 (1.26.15) or chardet (None)/charset_normalizer (3.1.0) doesn't match a supported version!\n",
      "  warnings.warn(\n"
     ]
    },
    {
     "name": "stdout",
     "output_type": "stream",
     "text": [
      "                                     id                     breed\n",
      "0      000bec180eb18c7604dcecc8fe0dba07               boston_bull\n",
      "1      001513dfcb2ffafc82cccf4d8bbaba97                     dingo\n",
      "2      001cdf01b096e06d78e9e5112d419397                  pekinese\n",
      "3      00214f311d5d2247d5dfe4fe24b2303d                  bluetick\n",
      "4      0021f9ceb3235effd7fcde7f7538ed62          golden_retriever\n",
      "...                                 ...                       ...\n",
      "10217  ffd25009d635cfd16e793503ac5edef0                    borzoi\n",
      "10218  ffd3f636f7f379c51ba3648a9ff8254f            dandie_dinmont\n",
      "10219  ffe2ca6c940cddfee68fa3cc6c63213f                  airedale\n",
      "10220  ffe5f6d8e2bff356e9482a80a6e29aac        miniature_pinscher\n",
      "10221  fff43b07992508bc822f33d8ffd902ae  chesapeake_bay_retriever\n",
      "\n",
      "[10222 rows x 2 columns]\n"
     ]
    }
   ],
   "source": [
    "import pandas as pd\n",
    "import numpy as np\n",
    "import os \n",
    "from pathlib import Path\n",
    "from PIL import Image\n",
    "import matplotlib.pyplot as plt\n",
    "from tensorflow.keras.preprocessing.image import ImageDataGenerator\n",
    "\n",
    "#TEST_IMAGE_DIR = \"./dog-breed-identification/test/\"\n",
    "TRAIN_IMAGE_DIR = \"./dog-breed-identification/train/\"\n",
    "LABELS = './dog-breed-identification/labels.csv'\n",
    "\n",
    "data = pd.read_csv(LABELS)\n",
    "class_names = data['breed'].unique()\n",
    "\n",
    "print(data)"
   ]
  },
  {
   "cell_type": "code",
   "execution_count": 2,
   "metadata": {},
   "outputs": [],
   "source": [
    "#Data from the csv only contans the ids of the photos and not the photos itself\n",
    "#Iterate through the data and check whether the photo is in test or train\n",
    "#Then fetch it and store it in its proper variable\n",
    "import tensorflow as tf\n",
    "from os.path import join\n",
    "from tensorflow.keras.utils import load_img, img_to_array\n",
    "from tensorflow.keras.applications.imagenet_utils import preprocess_input\n",
    "from sklearn.model_selection import train_test_split\n",
    "from sklearn.preprocessing import LabelEncoder\n",
    "\n",
    "def load_and_preprocess_images(image_dir, image_ids, target_size=(90, 90)):\n",
    "    image_data = []\n",
    "    for img_id in image_ids:\n",
    "        img_path = join(image_dir, img_id + \".jpg\")\n",
    "        img = load_img(img_path, target_size=target_size)\n",
    "        img_array = img_to_array(img)\n",
    "        preprocessed_img = preprocess_input(img_array) #I dont flatten the image here\n",
    "        image_data.append(preprocessed_img)\n",
    "    return np.array(image_data)\n",
    "\n",
    "# Get image IDs for train and test\n",
    "train_image_ids = data['id'].values\n",
    "labels = data['breed'].values\n",
    "# Encode labels\n",
    "label_encoder = LabelEncoder()\n",
    "encoded_labels = label_encoder.fit_transform(labels)\n",
    "\n",
    "train_image_ids, unfinished_test_image_ids, train_labels, unfinished_test_labels = train_test_split(train_image_ids, encoded_labels, test_size=0.3, random_state=42, stratify=encoded_labels)\n",
    "\n",
    "test_image_ids, val_image_ids, test_labels, val_labels = train_test_split(unfinished_test_image_ids, unfinished_test_labels, test_size=0.5, random_state=42, stratify=unfinished_test_labels)\n",
    "\n",
    "train_images = load_and_preprocess_images(TRAIN_IMAGE_DIR, train_image_ids)\n",
    "test_images = load_and_preprocess_images(TRAIN_IMAGE_DIR, test_image_ids)\n",
    "val_images = load_and_preprocess_images(TRAIN_IMAGE_DIR, val_image_ids)"
   ]
  },
  {
   "cell_type": "code",
   "execution_count": 3,
   "metadata": {},
   "outputs": [],
   "source": [
    "train_images = train_images / 250.0\n",
    "test_images = test_images / 250.0\n",
    "val_images = val_images / 250.0"
   ]
  },
  {
   "cell_type": "code",
   "execution_count": 4,
   "metadata": {},
   "outputs": [],
   "source": [
    "datagen = ImageDataGenerator(\n",
    "    rotation_range=20,\n",
    "    width_shift_range=0.2,\n",
    "    height_shift_range=0.2,\n",
    "    horizontal_flip=True,\n",
    "    zoom_range=0.2\n",
    ")\n",
    "\n",
    "datagen.fit(train_images)"
   ]
  },
  {
   "cell_type": "code",
   "execution_count": 5,
   "metadata": {},
   "outputs": [],
   "source": [
    "from tensorflow import keras\n",
    "from tensorflow.keras.layers import BatchNormalization, Dropout\n",
    "\n",
    "model = keras.Sequential([\n",
    "    tf.keras.layers.Conv2D(32, (3, 3), activation='relu', input_shape=(90, 90, 3)),\n",
    "    tf.keras.layers.BatchNormalization(),\n",
    "    tf.keras.layers.MaxPooling2D(2, 2),\n",
    "    \n",
    "    tf.keras.layers.Conv2D(64, (3, 3), activation='relu'),\n",
    "    tf.keras.layers.BatchNormalization(),\n",
    "    tf.keras.layers.MaxPooling2D(2, 2),\n",
    "    \n",
    "    tf.keras.layers.Conv2D(128, (3, 3), activation='relu'),\n",
    "    tf.keras.layers.BatchNormalization(),\n",
    "    tf.keras.layers.MaxPooling2D(2, 2),\n",
    "    \n",
    "    tf.keras.layers.Conv2D(256, (3, 3), activation='relu'),\n",
    "    tf.keras.layers.BatchNormalization(),\n",
    "    tf.keras.layers.MaxPooling2D(2, 2),\n",
    "    \n",
    "    tf.keras.layers.Flatten(),\n",
    "    \n",
    "    tf.keras.layers.Dense(512, activation=\"relu\"),\n",
    "    tf.keras.layers.BatchNormalization(),\n",
    "    tf.keras.layers.Dropout(0.5),\n",
    "    \n",
    "    tf.keras.layers.Dense(256, activation=\"relu\"),\n",
    "    tf.keras.layers.BatchNormalization(),\n",
    "    tf.keras.layers.Dropout(0.5),\n",
    "    \n",
    "    tf.keras.layers.Dense(120, activation=\"softmax\"),\n",
    "])\n"
   ]
  },
  {
   "cell_type": "code",
   "execution_count": 6,
   "metadata": {},
   "outputs": [],
   "source": [
    "model.compile(optimizer='adam',\n",
    "                loss='sparse_categorical_crossentropy',\n",
    "                metrics=['accuracy'])"
   ]
  },
  {
   "cell_type": "code",
   "execution_count": 7,
   "metadata": {},
   "outputs": [
    {
     "name": "stdout",
     "output_type": "stream",
     "text": [
      "Epoch 1/50\n",
      "89/89 [==============================] - 12s 99ms/step - loss: 5.6079 - accuracy: 0.0147 - val_loss: 5.9899 - val_accuracy: 0.0111\n",
      "Epoch 2/50\n",
      "89/89 [==============================] - 8s 94ms/step - loss: 5.1589 - accuracy: 0.0212 - val_loss: 6.5227 - val_accuracy: 0.0111\n",
      "Epoch 3/50\n",
      "89/89 [==============================] - 8s 95ms/step - loss: 4.9277 - accuracy: 0.0300 - val_loss: 6.1744 - val_accuracy: 0.0130\n",
      "Epoch 4/50\n",
      "89/89 [==============================] - 8s 94ms/step - loss: 4.7550 - accuracy: 0.0317 - val_loss: 5.9556 - val_accuracy: 0.0202\n",
      "Epoch 5/50\n",
      "89/89 [==============================] - 9s 96ms/step - loss: 4.6427 - accuracy: 0.0393 - val_loss: 5.1199 - val_accuracy: 0.0319\n",
      "Epoch 6/50\n",
      "89/89 [==============================] - 8s 95ms/step - loss: 4.5499 - accuracy: 0.0414 - val_loss: 4.5548 - val_accuracy: 0.0359\n",
      "Epoch 7/50\n",
      "89/89 [==============================] - 9s 99ms/step - loss: 4.4773 - accuracy: 0.0451 - val_loss: 4.4102 - val_accuracy: 0.0456\n",
      "Epoch 8/50\n",
      "89/89 [==============================] - 9s 98ms/step - loss: 4.4209 - accuracy: 0.0459 - val_loss: 4.3530 - val_accuracy: 0.0515\n",
      "Epoch 9/50\n",
      "89/89 [==============================] - 9s 98ms/step - loss: 4.3366 - accuracy: 0.0531 - val_loss: 4.1724 - val_accuracy: 0.0658\n",
      "Epoch 10/50\n",
      "89/89 [==============================] - 9s 97ms/step - loss: 4.2809 - accuracy: 0.0572 - val_loss: 4.1402 - val_accuracy: 0.0691\n",
      "Epoch 11/50\n",
      "89/89 [==============================] - 9s 99ms/step - loss: 4.2239 - accuracy: 0.0626 - val_loss: 4.1173 - val_accuracy: 0.0698\n",
      "Epoch 12/50\n",
      "89/89 [==============================] - 9s 98ms/step - loss: 4.1698 - accuracy: 0.0710 - val_loss: 4.2066 - val_accuracy: 0.0704\n",
      "Epoch 13/50\n",
      "89/89 [==============================] - 9s 99ms/step - loss: 4.1185 - accuracy: 0.0734 - val_loss: 4.2059 - val_accuracy: 0.0684\n",
      "Epoch 14/50\n",
      "89/89 [==============================] - 9s 97ms/step - loss: 4.0746 - accuracy: 0.0738 - val_loss: 4.0912 - val_accuracy: 0.0782\n",
      "Epoch 15/50\n",
      "89/89 [==============================] - 9s 99ms/step - loss: 4.0144 - accuracy: 0.0861 - val_loss: 4.0377 - val_accuracy: 0.0900\n",
      "Epoch 16/50\n",
      "89/89 [==============================] - 9s 99ms/step - loss: 3.9676 - accuracy: 0.0871 - val_loss: 3.9288 - val_accuracy: 0.1095\n",
      "Epoch 17/50\n",
      "89/89 [==============================] - 9s 100ms/step - loss: 3.9490 - accuracy: 0.0957 - val_loss: 4.2604 - val_accuracy: 0.0737\n",
      "Epoch 18/50\n",
      "89/89 [==============================] - 9s 98ms/step - loss: 3.8895 - accuracy: 0.0972 - val_loss: 4.0230 - val_accuracy: 0.0900\n",
      "Epoch 19/50\n",
      "89/89 [==============================] - 9s 99ms/step - loss: 3.8526 - accuracy: 0.1049 - val_loss: 3.8303 - val_accuracy: 0.1160\n",
      "Epoch 20/50\n",
      "89/89 [==============================] - 9s 98ms/step - loss: 3.8107 - accuracy: 0.1046 - val_loss: 3.8662 - val_accuracy: 0.1095\n",
      "Epoch 21/50\n",
      "89/89 [==============================] - 9s 98ms/step - loss: 3.7535 - accuracy: 0.1110 - val_loss: 4.1344 - val_accuracy: 0.0789\n",
      "Epoch 22/50\n",
      "89/89 [==============================] - 9s 97ms/step - loss: 3.7327 - accuracy: 0.1173 - val_loss: 3.6902 - val_accuracy: 0.1304\n",
      "Epoch 23/50\n",
      "89/89 [==============================] - 9s 100ms/step - loss: 3.6867 - accuracy: 0.1268 - val_loss: 4.0146 - val_accuracy: 0.0984\n",
      "Epoch 24/50\n",
      "89/89 [==============================] - 9s 97ms/step - loss: 3.6202 - accuracy: 0.1391 - val_loss: 3.7009 - val_accuracy: 0.1473\n",
      "Epoch 25/50\n",
      "89/89 [==============================] - 9s 98ms/step - loss: 3.6188 - accuracy: 0.1347 - val_loss: 3.7849 - val_accuracy: 0.1213\n",
      "Epoch 26/50\n",
      "89/89 [==============================] - 9s 96ms/step - loss: 3.5511 - accuracy: 0.1522 - val_loss: 3.7616 - val_accuracy: 0.1245\n",
      "Epoch 27/50\n",
      "89/89 [==============================] - 9s 97ms/step - loss: 3.5177 - accuracy: 0.1579 - val_loss: 3.7226 - val_accuracy: 0.1369\n",
      "Epoch 28/50\n",
      "89/89 [==============================] - 9s 96ms/step - loss: 3.5174 - accuracy: 0.1442 - val_loss: 3.8311 - val_accuracy: 0.1186\n",
      "Epoch 29/50\n",
      "89/89 [==============================] - 9s 98ms/step - loss: 3.4471 - accuracy: 0.1616 - val_loss: 3.8335 - val_accuracy: 0.1219\n",
      "Epoch 30/50\n",
      "89/89 [==============================] - 9s 95ms/step - loss: 3.3963 - accuracy: 0.1706 - val_loss: 3.7558 - val_accuracy: 0.1297\n",
      "Epoch 31/50\n",
      "89/89 [==============================] - 9s 98ms/step - loss: 3.4028 - accuracy: 0.1705 - val_loss: 3.6547 - val_accuracy: 0.1395\n",
      "Epoch 32/50\n",
      "89/89 [==============================] - 9s 96ms/step - loss: 3.3776 - accuracy: 0.1682 - val_loss: 3.6774 - val_accuracy: 0.1362\n",
      "Epoch 33/50\n",
      "89/89 [==============================] - 9s 98ms/step - loss: 3.3536 - accuracy: 0.1764 - val_loss: 3.6414 - val_accuracy: 0.1447\n",
      "Epoch 34/50\n",
      "89/89 [==============================] - 9s 96ms/step - loss: 3.3076 - accuracy: 0.1859 - val_loss: 3.8032 - val_accuracy: 0.1304\n",
      "Epoch 35/50\n",
      "89/89 [==============================] - 9s 98ms/step - loss: 3.3033 - accuracy: 0.1887 - val_loss: 3.5738 - val_accuracy: 0.1506\n",
      "Epoch 36/50\n",
      "89/89 [==============================] - 9s 96ms/step - loss: 3.2731 - accuracy: 0.1987 - val_loss: 3.5615 - val_accuracy: 0.1780\n",
      "Epoch 37/50\n",
      "89/89 [==============================] - 9s 99ms/step - loss: 3.2480 - accuracy: 0.1958 - val_loss: 3.4959 - val_accuracy: 0.1754\n",
      "Epoch 38/50\n",
      "89/89 [==============================] - 9s 97ms/step - loss: 3.2114 - accuracy: 0.2023 - val_loss: 3.7609 - val_accuracy: 0.1323\n",
      "Epoch 39/50\n",
      "89/89 [==============================] - 9s 99ms/step - loss: 3.1631 - accuracy: 0.2133 - val_loss: 3.5739 - val_accuracy: 0.1630\n",
      "Epoch 40/50\n",
      "89/89 [==============================] - 9s 96ms/step - loss: 3.1658 - accuracy: 0.2102 - val_loss: 3.6514 - val_accuracy: 0.1519\n",
      "Epoch 41/50\n",
      "89/89 [==============================] - 9s 98ms/step - loss: 3.1281 - accuracy: 0.2213 - val_loss: 3.5206 - val_accuracy: 0.1675\n",
      "Epoch 42/50\n",
      "89/89 [==============================] - 9s 97ms/step - loss: 3.0815 - accuracy: 0.2213 - val_loss: 3.7191 - val_accuracy: 0.1395\n",
      "Epoch 43/50\n",
      "89/89 [==============================] - 9s 97ms/step - loss: 3.0906 - accuracy: 0.2278 - val_loss: 3.5780 - val_accuracy: 0.1747\n",
      "Epoch 44/50\n",
      "89/89 [==============================] - 9s 97ms/step - loss: 3.0605 - accuracy: 0.2281 - val_loss: 3.4740 - val_accuracy: 0.1695\n",
      "Epoch 45/50\n",
      "89/89 [==============================] - 9s 100ms/step - loss: 3.0187 - accuracy: 0.2489 - val_loss: 3.3434 - val_accuracy: 0.2080\n",
      "Epoch 46/50\n",
      "89/89 [==============================] - 9s 99ms/step - loss: 3.0197 - accuracy: 0.2332 - val_loss: 3.5200 - val_accuracy: 0.1604\n",
      "Epoch 47/50\n",
      "89/89 [==============================] - 9s 98ms/step - loss: 2.9835 - accuracy: 0.2497 - val_loss: 3.4729 - val_accuracy: 0.1897\n",
      "Epoch 48/50\n",
      "89/89 [==============================] - 9s 95ms/step - loss: 2.9851 - accuracy: 0.2383 - val_loss: 3.3358 - val_accuracy: 0.2027\n",
      "Epoch 49/50\n",
      "89/89 [==============================] - 9s 97ms/step - loss: 2.9123 - accuracy: 0.2581 - val_loss: 3.5354 - val_accuracy: 0.1741\n",
      "Epoch 50/50\n",
      "89/89 [==============================] - 8s 94ms/step - loss: 2.9505 - accuracy: 0.2522 - val_loss: 3.4537 - val_accuracy: 0.1851\n"
     ]
    },
    {
     "data": {
      "text/plain": [
       "<keras.callbacks.History at 0x20c2fa97340>"
      ]
     },
     "execution_count": 7,
     "metadata": {},
     "output_type": "execute_result"
    }
   ],
   "source": [
    "batch_size = 80  # Choose a batch size that fits your memory constraints\n",
    "epochs = 50\n",
    "\n",
    "model.fit(datagen.flow(train_images, train_labels, batch_size=batch_size),\n",
    "          steps_per_epoch=len(train_images) // batch_size,\n",
    "          epochs=epochs,\n",
    "          validation_data=(val_images, val_labels))"
   ]
  },
  {
   "cell_type": "code",
   "execution_count": 8,
   "metadata": {},
   "outputs": [
    {
     "name": "stdout",
     "output_type": "stream",
     "text": [
      "48/48 - 0s - loss: 3.5619 - accuracy: 0.1787 - 237ms/epoch - 5ms/step\n",
      "\n",
      "Test accuracy: 0.17873451113700867\n"
     ]
    }
   ],
   "source": [
    "test_loss, test_acc = model.evaluate(test_images,  test_labels, verbose=2)\n",
    "print('\\nTest accuracy:', test_acc)"
   ]
  }
 ],
 "metadata": {
  "kernelspec": {
   "display_name": "Python 3",
   "language": "python",
   "name": "python3"
  },
  "language_info": {
   "codemirror_mode": {
    "name": "ipython",
    "version": 3
   },
   "file_extension": ".py",
   "mimetype": "text/x-python",
   "name": "python",
   "nbconvert_exporter": "python",
   "pygments_lexer": "ipython3",
   "version": "3.9.16"
  },
  "orig_nbformat": 4
 },
 "nbformat": 4,
 "nbformat_minor": 2
}
