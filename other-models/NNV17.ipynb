{
 "cells": [
  {
   "cell_type": "code",
   "execution_count": 1,
   "metadata": {},
   "outputs": [
    {
     "name": "stderr",
     "output_type": "stream",
     "text": [
      "c:\\Users\\Danny\\miniconda3\\envs\\tf\\lib\\site-packages\\requests\\__init__.py:109: RequestsDependencyWarning: urllib3 (1.26.15) or chardet (None)/charset_normalizer (3.1.0) doesn't match a supported version!\n",
      "  warnings.warn(\n"
     ]
    },
    {
     "name": "stdout",
     "output_type": "stream",
     "text": [
      "                                     id                     breed\n",
      "0      000bec180eb18c7604dcecc8fe0dba07               boston_bull\n",
      "1      001513dfcb2ffafc82cccf4d8bbaba97                     dingo\n",
      "2      001cdf01b096e06d78e9e5112d419397                  pekinese\n",
      "3      00214f311d5d2247d5dfe4fe24b2303d                  bluetick\n",
      "4      0021f9ceb3235effd7fcde7f7538ed62          golden_retriever\n",
      "...                                 ...                       ...\n",
      "10217  ffd25009d635cfd16e793503ac5edef0                    borzoi\n",
      "10218  ffd3f636f7f379c51ba3648a9ff8254f            dandie_dinmont\n",
      "10219  ffe2ca6c940cddfee68fa3cc6c63213f                  airedale\n",
      "10220  ffe5f6d8e2bff356e9482a80a6e29aac        miniature_pinscher\n",
      "10221  fff43b07992508bc822f33d8ffd902ae  chesapeake_bay_retriever\n",
      "\n",
      "[10222 rows x 2 columns]\n"
     ]
    }
   ],
   "source": [
    "import pandas as pd\n",
    "import numpy as np\n",
    "import os \n",
    "from pathlib import Path\n",
    "from PIL import Image\n",
    "import matplotlib.pyplot as plt\n",
    "from tensorflow.keras.preprocessing.image import ImageDataGenerator\n",
    "\n",
    "#TEST_IMAGE_DIR = \"./dog-breed-identification/test/\"\n",
    "TRAIN_IMAGE_DIR = \"./dog-breed-identification/train/\"\n",
    "LABELS = './dog-breed-identification/labels.csv'\n",
    "\n",
    "data = pd.read_csv(LABELS)\n",
    "class_names = data['breed'].unique()\n",
    "\n",
    "print(data)"
   ]
  },
  {
   "cell_type": "code",
   "execution_count": 2,
   "metadata": {},
   "outputs": [],
   "source": [
    "#Data from the csv only contans the ids of the photos and not the photos itself\n",
    "#Iterate through the data and check whether the photo is in test or train\n",
    "#Then fetch it and store it in its proper variable\n",
    "import tensorflow as tf\n",
    "from os.path import join\n",
    "from tensorflow.keras.utils import load_img, img_to_array\n",
    "from tensorflow.keras.applications.imagenet_utils import preprocess_input\n",
    "from sklearn.model_selection import train_test_split\n",
    "from sklearn.preprocessing import LabelEncoder\n",
    "\n",
    "def load_and_preprocess_images(image_dir, image_ids, target_size=(90, 90)):\n",
    "    image_data = []\n",
    "    for img_id in image_ids:\n",
    "        img_path = join(image_dir, img_id + \".jpg\")\n",
    "        img = load_img(img_path, target_size=target_size)\n",
    "        img_array = img_to_array(img)\n",
    "        preprocessed_img = preprocess_input(img_array) #I dont flatten the image here\n",
    "        image_data.append(preprocessed_img)\n",
    "    return np.array(image_data)\n",
    "\n",
    "# Get image IDs for train and test\n",
    "train_image_ids = data['id'].values\n",
    "labels = data['breed'].values\n",
    "# Encode labels\n",
    "label_encoder = LabelEncoder()\n",
    "encoded_labels = label_encoder.fit_transform(labels)\n",
    "\n",
    "train_image_ids, unfinished_test_image_ids, train_labels, unfinished_test_labels = train_test_split(train_image_ids, encoded_labels, test_size=0.3, random_state=42, stratify=encoded_labels)\n",
    "\n",
    "test_image_ids, val_image_ids, test_labels, val_labels = train_test_split(unfinished_test_image_ids, unfinished_test_labels, test_size=0.5, random_state=42, stratify=unfinished_test_labels)\n",
    "\n",
    "train_images = load_and_preprocess_images(TRAIN_IMAGE_DIR, train_image_ids)\n",
    "test_images = load_and_preprocess_images(TRAIN_IMAGE_DIR, test_image_ids)\n",
    "val_images = load_and_preprocess_images(TRAIN_IMAGE_DIR, val_image_ids)"
   ]
  },
  {
   "cell_type": "code",
   "execution_count": 3,
   "metadata": {},
   "outputs": [],
   "source": [
    "train_images = train_images / 250.0\n",
    "test_images = test_images / 250.0\n",
    "val_images = val_images / 250.0"
   ]
  },
  {
   "cell_type": "code",
   "execution_count": 4,
   "metadata": {},
   "outputs": [],
   "source": [
    "datagen = ImageDataGenerator(\n",
    "    rotation_range=20,\n",
    "    width_shift_range=0.2,\n",
    "    height_shift_range=0.2,\n",
    "    horizontal_flip=True,\n",
    "    zoom_range=0.2\n",
    ")\n",
    "\n",
    "datagen.fit(train_images)"
   ]
  },
  {
   "cell_type": "code",
   "execution_count": 5,
   "metadata": {},
   "outputs": [],
   "source": [
    "from tensorflow import keras\n",
    "from tensorflow.keras.layers import BatchNormalization, Dropout\n",
    "\n",
    "model = keras.Sequential([\n",
    "    tf.keras.layers.Conv2D(32, (3, 3), activation='relu', input_shape=(90, 90, 3)),\n",
    "    tf.keras.layers.BatchNormalization(),\n",
    "    tf.keras.layers.MaxPooling2D(2, 2),\n",
    "    \n",
    "    tf.keras.layers.Conv2D(64, (3, 3), activation='relu'),\n",
    "    tf.keras.layers.BatchNormalization(),\n",
    "    tf.keras.layers.MaxPooling2D(2, 2),\n",
    "    \n",
    "    tf.keras.layers.Conv2D(128, (3, 3), activation='relu'),\n",
    "    tf.keras.layers.BatchNormalization(),\n",
    "    tf.keras.layers.MaxPooling2D(2, 2),\n",
    "    \n",
    "    tf.keras.layers.Conv2D(256, (3, 3), activation='relu'),\n",
    "    tf.keras.layers.BatchNormalization(),\n",
    "    tf.keras.layers.MaxPooling2D(2, 2),\n",
    "    \n",
    "    tf.keras.layers.Flatten(),\n",
    "    \n",
    "    tf.keras.layers.Dense(512, activation=\"relu\"),\n",
    "    tf.keras.layers.BatchNormalization(),\n",
    "    tf.keras.layers.Dropout(0.5),\n",
    "    \n",
    "    tf.keras.layers.Dense(256, activation=\"relu\"),\n",
    "    tf.keras.layers.BatchNormalization(),\n",
    "    tf.keras.layers.Dropout(0.5),\n",
    "    \n",
    "    tf.keras.layers.Dense(120, activation=\"softmax\"),\n",
    "])\n"
   ]
  },
  {
   "cell_type": "code",
   "execution_count": 6,
   "metadata": {},
   "outputs": [],
   "source": [
    "model.compile(optimizer='adam',\n",
    "                loss='sparse_categorical_crossentropy',\n",
    "                metrics=['accuracy'])"
   ]
  },
  {
   "cell_type": "code",
   "execution_count": 7,
   "metadata": {},
   "outputs": [
    {
     "name": "stdout",
     "output_type": "stream",
     "text": [
      "Epoch 1/40\n",
      "89/89 [==============================] - 12s 99ms/step - loss: 5.5974 - accuracy: 0.0137 - val_loss: 5.7067 - val_accuracy: 0.0111\n",
      "Epoch 2/40\n",
      "89/89 [==============================] - 8s 93ms/step - loss: 5.1388 - accuracy: 0.0223 - val_loss: 6.6095 - val_accuracy: 0.0111\n",
      "Epoch 3/40\n",
      "89/89 [==============================] - 8s 94ms/step - loss: 4.9458 - accuracy: 0.0247 - val_loss: 7.4113 - val_accuracy: 0.0137\n",
      "Epoch 4/40\n",
      "89/89 [==============================] - 8s 94ms/step - loss: 4.7844 - accuracy: 0.0271 - val_loss: 5.7702 - val_accuracy: 0.0183\n",
      "Epoch 5/40\n",
      "89/89 [==============================] - 8s 94ms/step - loss: 4.6473 - accuracy: 0.0367 - val_loss: 5.1125 - val_accuracy: 0.0215\n",
      "Epoch 6/40\n",
      "89/89 [==============================] - 8s 93ms/step - loss: 4.5715 - accuracy: 0.0397 - val_loss: 4.4430 - val_accuracy: 0.0378\n",
      "Epoch 7/40\n",
      "89/89 [==============================] - 8s 94ms/step - loss: 4.5008 - accuracy: 0.0473 - val_loss: 4.3198 - val_accuracy: 0.0528\n",
      "Epoch 8/40\n",
      "89/89 [==============================] - 8s 93ms/step - loss: 4.4119 - accuracy: 0.0534 - val_loss: 4.3301 - val_accuracy: 0.0495\n",
      "Epoch 9/40\n",
      "89/89 [==============================] - 8s 94ms/step - loss: 4.3745 - accuracy: 0.0520 - val_loss: 4.1384 - val_accuracy: 0.0763\n",
      "Epoch 10/40\n",
      "89/89 [==============================] - 8s 94ms/step - loss: 4.3051 - accuracy: 0.0591 - val_loss: 4.0896 - val_accuracy: 0.0698\n",
      "Epoch 11/40\n",
      "89/89 [==============================] - 8s 94ms/step - loss: 4.2406 - accuracy: 0.0578 - val_loss: 4.1088 - val_accuracy: 0.0684\n",
      "Epoch 12/40\n",
      "89/89 [==============================] - 8s 93ms/step - loss: 4.1934 - accuracy: 0.0647 - val_loss: 4.1337 - val_accuracy: 0.0841\n",
      "Epoch 13/40\n",
      "89/89 [==============================] - 8s 95ms/step - loss: 4.1230 - accuracy: 0.0766 - val_loss: 4.0915 - val_accuracy: 0.0847\n",
      "Epoch 14/40\n",
      "89/89 [==============================] - 8s 93ms/step - loss: 4.1077 - accuracy: 0.0749 - val_loss: 4.1085 - val_accuracy: 0.0684\n",
      "Epoch 15/40\n",
      "89/89 [==============================] - 8s 94ms/step - loss: 4.0403 - accuracy: 0.0762 - val_loss: 4.0266 - val_accuracy: 0.0867\n",
      "Epoch 16/40\n",
      "89/89 [==============================] - 8s 94ms/step - loss: 3.9867 - accuracy: 0.0882 - val_loss: 4.0648 - val_accuracy: 0.0880\n",
      "Epoch 17/40\n",
      "89/89 [==============================] - 8s 95ms/step - loss: 3.9534 - accuracy: 0.0960 - val_loss: 4.0696 - val_accuracy: 0.0841\n",
      "Epoch 18/40\n",
      "89/89 [==============================] - 8s 93ms/step - loss: 3.9030 - accuracy: 0.0977 - val_loss: 4.0438 - val_accuracy: 0.0900\n",
      "Epoch 19/40\n",
      "89/89 [==============================] - 8s 94ms/step - loss: 3.8668 - accuracy: 0.1018 - val_loss: 3.8981 - val_accuracy: 0.1141\n",
      "Epoch 20/40\n",
      "89/89 [==============================] - 8s 93ms/step - loss: 3.8066 - accuracy: 0.1084 - val_loss: 4.2128 - val_accuracy: 0.0795\n",
      "Epoch 21/40\n",
      "89/89 [==============================] - 8s 95ms/step - loss: 3.7365 - accuracy: 0.1258 - val_loss: 3.8805 - val_accuracy: 0.0991\n",
      "Epoch 22/40\n",
      "89/89 [==============================] - 8s 93ms/step - loss: 3.7390 - accuracy: 0.1199 - val_loss: 4.1318 - val_accuracy: 0.0789\n",
      "Epoch 23/40\n",
      "89/89 [==============================] - 8s 95ms/step - loss: 3.6702 - accuracy: 0.1290 - val_loss: 3.6740 - val_accuracy: 0.1480\n",
      "Epoch 24/40\n",
      "89/89 [==============================] - 8s 93ms/step - loss: 3.6466 - accuracy: 0.1347 - val_loss: 3.6516 - val_accuracy: 0.1415\n",
      "Epoch 25/40\n",
      "89/89 [==============================] - 8s 94ms/step - loss: 3.5946 - accuracy: 0.1388 - val_loss: 4.0287 - val_accuracy: 0.0984\n",
      "Epoch 26/40\n",
      "89/89 [==============================] - 8s 93ms/step - loss: 3.5509 - accuracy: 0.1446 - val_loss: 3.7799 - val_accuracy: 0.1330\n",
      "Epoch 27/40\n",
      "89/89 [==============================] - 9s 96ms/step - loss: 3.5170 - accuracy: 0.1592 - val_loss: 3.7142 - val_accuracy: 0.1330\n",
      "Epoch 28/40\n",
      "89/89 [==============================] - 8s 95ms/step - loss: 3.4951 - accuracy: 0.1587 - val_loss: 3.7386 - val_accuracy: 0.1421\n",
      "Epoch 29/40\n",
      "89/89 [==============================] - 9s 98ms/step - loss: 3.4785 - accuracy: 0.1624 - val_loss: 3.7557 - val_accuracy: 0.1356\n",
      "Epoch 30/40\n",
      "89/89 [==============================] - 8s 95ms/step - loss: 3.4444 - accuracy: 0.1608 - val_loss: 3.7692 - val_accuracy: 0.1284\n",
      "Epoch 31/40\n",
      "89/89 [==============================] - 9s 97ms/step - loss: 3.3824 - accuracy: 0.1763 - val_loss: 3.7092 - val_accuracy: 0.1362\n",
      "Epoch 32/40\n",
      "89/89 [==============================] - 9s 96ms/step - loss: 3.3612 - accuracy: 0.1778 - val_loss: 3.6086 - val_accuracy: 0.1565\n",
      "Epoch 33/40\n",
      "89/89 [==============================] - 9s 96ms/step - loss: 3.3181 - accuracy: 0.1869 - val_loss: 3.5589 - val_accuracy: 0.1741\n",
      "Epoch 34/40\n",
      "89/89 [==============================] - 8s 94ms/step - loss: 3.3035 - accuracy: 0.1850 - val_loss: 3.4217 - val_accuracy: 0.1858\n",
      "Epoch 35/40\n",
      "89/89 [==============================] - 9s 96ms/step - loss: 3.2660 - accuracy: 0.1945 - val_loss: 3.7122 - val_accuracy: 0.1512\n",
      "Epoch 36/40\n",
      "89/89 [==============================] - 8s 95ms/step - loss: 3.2620 - accuracy: 0.1934 - val_loss: 3.6547 - val_accuracy: 0.1415\n",
      "Epoch 37/40\n",
      "89/89 [==============================] - 9s 96ms/step - loss: 3.2096 - accuracy: 0.2131 - val_loss: 3.5418 - val_accuracy: 0.1519\n",
      "Epoch 38/40\n",
      "89/89 [==============================] - 8s 95ms/step - loss: 3.1834 - accuracy: 0.2140 - val_loss: 3.5720 - val_accuracy: 0.1584\n",
      "Epoch 39/40\n",
      "89/89 [==============================] - 9s 97ms/step - loss: 3.2009 - accuracy: 0.2122 - val_loss: 3.5085 - val_accuracy: 0.1780\n",
      "Epoch 40/40\n",
      "89/89 [==============================] - 8s 95ms/step - loss: 3.1369 - accuracy: 0.2116 - val_loss: 3.3925 - val_accuracy: 0.1949\n"
     ]
    },
    {
     "data": {
      "text/plain": [
       "<keras.callbacks.History at 0x20ec12f0340>"
      ]
     },
     "execution_count": 7,
     "metadata": {},
     "output_type": "execute_result"
    }
   ],
   "source": [
    "batch_size = 80  # Choose a batch size that fits your memory constraints\n",
    "epochs = 40\n",
    "\n",
    "model.fit(datagen.flow(train_images, train_labels, batch_size=batch_size),\n",
    "          steps_per_epoch=len(train_images) // batch_size,\n",
    "          epochs=epochs,\n",
    "          validation_data=(val_images, val_labels))"
   ]
  },
  {
   "cell_type": "code",
   "execution_count": 8,
   "metadata": {},
   "outputs": [
    {
     "name": "stdout",
     "output_type": "stream",
     "text": [
      "48/48 - 0s - loss: 3.4558 - accuracy: 0.1755 - 249ms/epoch - 5ms/step\n",
      "\n",
      "Test accuracy: 0.1754729300737381\n"
     ]
    }
   ],
   "source": [
    "test_loss, test_acc = model.evaluate(test_images,  test_labels, verbose=2)\n",
    "print('\\nTest accuracy:', test_acc)"
   ]
  }
 ],
 "metadata": {
  "kernelspec": {
   "display_name": "Python 3",
   "language": "python",
   "name": "python3"
  },
  "language_info": {
   "codemirror_mode": {
    "name": "ipython",
    "version": 3
   },
   "file_extension": ".py",
   "mimetype": "text/x-python",
   "name": "python",
   "nbconvert_exporter": "python",
   "pygments_lexer": "ipython3",
   "version": "3.9.16"
  },
  "orig_nbformat": 4
 },
 "nbformat": 4,
 "nbformat_minor": 2
}
